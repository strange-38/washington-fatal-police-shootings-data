{
 "cells": [
  {
   "cell_type": "markdown",
   "metadata": {
    "application/vnd.databricks.v1+cell": {
     "cellMetadata": {},
     "inputWidgets": {},
     "nuid": "58304e6d-1e1c-4c36-a43c-95aad18fd328",
     "showTitle": false,
     "tableResultSettingsMap": {},
     "title": ""
    }
   },
   "source": [
    "## Required Libraries"
   ]
  },
  {
   "cell_type": "code",
   "execution_count": 0,
   "metadata": {
    "application/vnd.databricks.v1+cell": {
     "cellMetadata": {
      "byteLimit": 2048000,
      "rowLimit": 10000
     },
     "inputWidgets": {},
     "nuid": "f2297a3d-42b7-46df-8153-6cd960b404bf",
     "showTitle": false,
     "tableResultSettingsMap": {},
     "title": ""
    }
   },
   "outputs": [],
   "source": [
    "from pyspark.sql.functions import col, count, rank, trim, regexp_replace, dense_rank\n",
    "from pyspark.sql.window import Window\n",
    "import requests\n",
    "import pandas as pd\n",
    "import numpy as np\n"
   ]
  },
  {
   "cell_type": "markdown",
   "metadata": {
    "application/vnd.databricks.v1+cell": {
     "cellMetadata": {},
     "inputWidgets": {},
     "nuid": "9080d0f7-6e91-4609-b449-4fe8a64c7a95",
     "showTitle": false,
     "tableResultSettingsMap": {},
     "title": ""
    }
   },
   "source": [
    "## Fetch data for all State FIPS"
   ]
  },
  {
   "cell_type": "code",
   "execution_count": 0,
   "metadata": {
    "application/vnd.databricks.v1+cell": {
     "cellMetadata": {
      "byteLimit": 2048000,
      "rowLimit": 10000
     },
     "inputWidgets": {},
     "nuid": "77fdc2b1-93f4-4784-b872-3ab71c221798",
     "showTitle": false,
     "tableResultSettingsMap": {},
     "title": ""
    }
   },
   "outputs": [],
   "source": [
    "# Your API key\n",
    "API_KEY = \"d4f069b303bf1ede6d3c01948e3113bf21da475f\"\n",
    "\n",
    "# List of all state FIPS codes\n",
    "STATE_FIPS_LIST = [\n",
    "    \"01\", \"02\", \"04\", \"05\", \"06\", \"08\", \"09\", \"10\", \"11\", \"12\", \"13\", \"15\", \"16\", \"17\", \"18\", \"19\", \"20\", \"21\", \"22\", \"23\", \"24\", \"25\", \"26\", \"27\", \"28\", \"29\", \"30\", \"31\", \"32\", \"33\", \"34\", \"35\", \"36\", \"37\", \"38\", \"39\", \"40\", \"41\", \"42\", \"44\", \"45\", \"46\", \"47\", \"48\", \"49\", \"50\", \"51\", \"53\", \"54\", \"55\", \"56\"]\n",
    "\n",
    "# Years for which to fetch data\n",
    "YEARS = [year for year in range(2015, 2024)]\n",
    "\n",
    "# List to store data for each year\n",
    "all_county_data = []\n",
    "\n",
    "for year in YEARS:\n",
    "    # Base URL for the Census API\n",
    "    BASE_URL = f\"https://api.census.gov/data/{year}/acs/acs5\"\n",
    "\n",
    "    for state_fips in STATE_FIPS_LIST:\n",
    "        # Parameters for the API request\n",
    "        params = {\n",
    "            \"get\": \"NAME,B03002_001E,B03002_003E,B03002_004E,B03002_006E,B03002_007E,B03002_012E,B03002_008E,B03002_014E,B03002_017E,B03002_013E,B03002_011E\",\n",
    "            \"for\": \"county:*\",  # Fetch data for all counties\n",
    "            \"in\": f\"state:{state_fips}\",  # State filter\n",
    "            \"key\": API_KEY,\n",
    "        }\n",
    "\n",
    "        # Make the API request\n",
    "        response = requests.get(BASE_URL, params=params)\n",
    "\n",
    "        if response.status_code == 200:\n",
    "            # Parse the response JSON\n",
    "            data = response.json()\n",
    "\n",
    "            # Extract headers and data rows\n",
    "            headers = data[0]\n",
    "            values = data[1:]\n",
    "\n",
    "            # Convert to DataFrame\n",
    "            year_df = pd.DataFrame(values, columns=headers)\n",
    "\n",
    "            # Add a column for the year\n",
    "            year_df[\"year\"] = year\n",
    "\n",
    "            # Add a column for the state FIPS code\n",
    "            year_df[\"State FIPS\"] = state_fips\n",
    "\n",
    "            # Mapping of column codes to their actual names\n",
    "            column_mapping = {\n",
    "                \"B03002_001E\": \"total_population\",\n",
    "                \"B03002_003E\": \"White\",\n",
    "                \"B03002_004E\": \"Black\",\n",
    "                \"B03002_006E\": \"Asian\",\n",
    "                \"B03002_007E\": \"Native American\",\n",
    "                \"B03002_012E\": \"Hispanic\",\n",
    "                \"B03002_008E\": \"Other\",\n",
    "                \"B03002_014E\": \"Black: Hispanic\",\n",
    "                \"B03002_017E\": \"Native American: Hispanic\",\n",
    "                \"B03002_013E\": \"White: Hispanic\",\n",
    "                \"B03002_011E\": \"Two or More Races\"\n",
    "            }\n",
    "\n",
    "\n",
    "            # Rename columns\n",
    "            year_df.rename(columns=column_mapping, inplace=True)\n",
    "\n",
    "            year_df = year_df.drop(columns=[\"state\", \"county\", \"State FIPS\"])\n",
    "\n",
    "            year_df[[\"county\", \"state\"]] = year_df[\"NAME\"].str.split(\",\", expand=True)\n",
    "            year_df[\"state\"] = year_df[\"state\"].str.strip()\n",
    "\n",
    "            # Drop unnecessary state and county FIPS columns\n",
    "            year_df = year_df.drop(columns=[\"NAME\"])\n",
    "\n",
    "            # Append to the list\n",
    "            all_county_data.append(year_df)\n",
    "        else:\n",
    "            print(f\"Error fetching data for {year} - State FIPS {state_fips}: {response.status_code}, {response.text}\")\n"
   ]
  },
  {
   "cell_type": "markdown",
   "metadata": {
    "application/vnd.databricks.v1+cell": {
     "cellMetadata": {},
     "inputWidgets": {},
     "nuid": "15ea6ae9-d75c-4b41-90f7-ad6b34f43422",
     "showTitle": false,
     "tableResultSettingsMap": {},
     "title": ""
    }
   },
   "source": [
    "## Harmonization and %Race Calculation"
   ]
  },
  {
   "cell_type": "code",
   "execution_count": 0,
   "metadata": {
    "application/vnd.databricks.v1+cell": {
     "cellMetadata": {
      "byteLimit": 2048000,
      "rowLimit": 10000
     },
     "inputWidgets": {},
     "nuid": "33b74e2f-e6bd-4dce-9d4a-e0ddb876a4a2",
     "showTitle": false,
     "tableResultSettingsMap": {},
     "title": ""
    }
   },
   "outputs": [],
   "source": [
    "\n",
    "# Combine all years and states into a single DataFrame\n",
    "county_race_df = pd.concat(all_county_data, ignore_index=True)\n",
    "county_race_df = county_race_df.melt(id_vars=[\"county\", \"state\", \"year\", \"total_population\"], var_name=\"race\", value_name=\"population\")\n",
    "\n",
    "# Mapping dictionary\n",
    "race_mapping = {\n",
    "    \"White\": \"W\",\n",
    "    \"Black\": \"B\",\n",
    "    \"Asian\": \"A\",\n",
    "    \"Native American\": \"N\",\n",
    "    \"Hispanic\": \"H\",\n",
    "    \"Native American: Hispanic\": \"N;H\",\n",
    "    \"White: Hispanic\": \"W;H\",\n",
    "    \"Black: Hispanic\": \"B;H\",\n",
    "    \"Two or More Races\": \"ToM\",\n",
    "    \"Other\": \"O\"\n",
    "}\n",
    "\n",
    "# Dictionary of state name to abbreviation mapping\n",
    "state_abbr_dict = {\n",
    "    'Alabama': 'AL',\n",
    "    'Alaska': 'AK',\n",
    "    'Arizona': 'AZ',\n",
    "    'Arkansas': 'AR',\n",
    "    'California': 'CA',\n",
    "    'Colorado': 'CO',\n",
    "    'Connecticut': 'CT',\n",
    "    'Delaware': 'DE',\n",
    "    'Florida': 'FL',\n",
    "    'Georgia': 'GA',\n",
    "    'Hawaii': 'HI',\n",
    "    'Idaho': 'ID',\n",
    "    'Illinois': 'IL',\n",
    "    'Indiana': 'IN',\n",
    "    'Iowa': 'IA',\n",
    "    'Kansas': 'KS',\n",
    "    'Kentucky': 'KY',\n",
    "    'Louisiana': 'LA',\n",
    "    'Maine': 'ME',\n",
    "    'Maryland': 'MD',\n",
    "    'Massachusetts': 'MA',\n",
    "    'Michigan': 'MI',\n",
    "    'Minnesota': 'MN',\n",
    "    'Mississippi': 'MS',\n",
    "    'Missouri': 'MO',\n",
    "    'Montana': 'MT',\n",
    "    'Nebraska': 'NE',\n",
    "    'Nevada': 'NV',\n",
    "    'New Hampshire': 'NH',\n",
    "    'New Jersey': 'NJ',\n",
    "    'New Mexico': 'NM',\n",
    "    'New York': 'NY',\n",
    "    'North Carolina': 'NC',\n",
    "    'North Dakota': 'ND',\n",
    "    'Ohio': 'OH',\n",
    "    'Oklahoma': 'OK',\n",
    "    'Oregon': 'OR',\n",
    "    'Pennsylvania': 'PA',\n",
    "    'Rhode Island': 'RI',\n",
    "    'South Carolina': 'SC',\n",
    "    'South Dakota': 'SD',\n",
    "    'Tennessee': 'TN',\n",
    "    'Texas': 'TX',\n",
    "    'Utah': 'UT',\n",
    "    'Vermont': 'VT',\n",
    "    'Virginia': 'VA',\n",
    "    'Washington': 'WA',\n",
    "    'West Virginia': 'WV',\n",
    "    'Wisconsin': 'WI',\n",
    "    'Wyoming': 'WY'\n",
    "}\n",
    "\n",
    "\n",
    "# Apply mapping\n",
    "county_race_df['race'] = county_race_df['race'].map(race_mapping)\n",
    "county_race_df['state'] = county_race_df['state'].map(state_abbr_dict)\n",
    "\n",
    "# cast datatypes and get percentage population race\n",
    "county_race_df[\"population\"]  = county_race_df[\"population\"].astype(\"int\")\n",
    "county_race_df[\"total_population\"]  = county_race_df[\"total_population\"].astype(\"int\")\n",
    "\n",
    "county_race_df = county_race_df.groupby(['county', 'year', 'race'], as_index=False).agg({\n",
    "    'population': 'sum',\n",
    "    'total_population': 'sum',\n",
    "\n",
    "})\n",
    "\n",
    "# cast datatypes and get percentage population race\n",
    "county_race_df[\"%population_race\"] = round((county_race_df[\"population\"] / county_race_df[\"total_population\"]) * 100, 2)\n"
   ]
  },
  {
   "cell_type": "markdown",
   "metadata": {
    "application/vnd.databricks.v1+cell": {
     "cellMetadata": {},
     "inputWidgets": {},
     "nuid": "84cfaa3d-c19b-4f77-b780-3809bfcec16a",
     "showTitle": false,
     "tableResultSettingsMap": {},
     "title": ""
    }
   },
   "source": [
    "## Assign Ranks According to Desc Order of %Race Population"
   ]
  },
  {
   "cell_type": "code",
   "execution_count": 0,
   "metadata": {
    "application/vnd.databricks.v1+cell": {
     "cellMetadata": {
      "byteLimit": 2048000,
      "rowLimit": 10000
     },
     "inputWidgets": {},
     "nuid": "0c7dd7c2-3058-4856-b47d-8a6436ece87a",
     "showTitle": false,
     "tableResultSettingsMap": {},
     "title": ""
    }
   },
   "outputs": [],
   "source": [
    "spark_county_race_df = spark.createDataFrame(county_race_df)\n",
    "spark_county_race_df = spark_county_race_df.withColumn(\"county\", trim(regexp_replace(col(\"county\"), \"County\", \"\")))\n",
    "window_race = Window.partitionBy(\"county\", \"year\").orderBy(col(\"%population_race\").desc())\n",
    "spark_county_race_df = spark_county_race_df.withColumn(\"race_population_rank\", dense_rank().over(window_race).alias(\"race_population_rank\"))\n"
   ]
  },
  {
   "cell_type": "markdown",
   "metadata": {
    "application/vnd.databricks.v1+cell": {
     "cellMetadata": {},
     "inputWidgets": {},
     "nuid": "6e710b71-5ac7-48b1-9a5d-cee2b1eb2240",
     "showTitle": false,
     "tableResultSettingsMap": {},
     "title": ""
    }
   },
   "source": [
    "## Write Pre-Processed Data to Delta Table"
   ]
  },
  {
   "cell_type": "code",
   "execution_count": 0,
   "metadata": {
    "application/vnd.databricks.v1+cell": {
     "cellMetadata": {
      "byteLimit": 2048000,
      "rowLimit": 10000
     },
     "inputWidgets": {},
     "nuid": "9ffd49fd-a43a-4857-b5d7-98a6669429ed",
     "showTitle": false,
     "tableResultSettingsMap": {},
     "title": ""
    }
   },
   "outputs": [],
   "source": [
    "spark_county_race_df.write.format(\"delta\").mode(\"overwrite\").option(\"overwriteSchema\", \"true\").saveAsTable(\"default.percentage_population_race_per_county_by_year\")"
   ]
  },
  {
   "cell_type": "markdown",
   "metadata": {
    "application/vnd.databricks.v1+cell": {
     "cellMetadata": {},
     "inputWidgets": {},
     "nuid": "0c712d54-a462-4151-96ae-cfcdade5e76a",
     "showTitle": false,
     "tableResultSettingsMap": {},
     "title": ""
    }
   },
   "source": [
    "## Example Testing"
   ]
  },
  {
   "cell_type": "code",
   "execution_count": 0,
   "metadata": {
    "application/vnd.databricks.v1+cell": {
     "cellMetadata": {
      "byteLimit": 2048000,
      "rowLimit": 10000
     },
     "inputWidgets": {},
     "nuid": "7707ea2a-0da2-4595-9ca0-8a9a6037f583",
     "showTitle": false,
     "tableResultSettingsMap": {},
     "title": ""
    }
   },
   "outputs": [
    {
     "output_type": "display_data",
     "data": {
      "text/html": [
       "<style scoped>\n",
       "  .table-result-container {\n",
       "    max-height: 300px;\n",
       "    overflow: auto;\n",
       "  }\n",
       "  table, th, td {\n",
       "    border: 1px solid black;\n",
       "    border-collapse: collapse;\n",
       "  }\n",
       "  th, td {\n",
       "    padding: 5px;\n",
       "  }\n",
       "  th {\n",
       "    text-align: left;\n",
       "  }\n",
       "</style><div class='table-result-container'><table class='table-result'><thead style='background-color: white'><tr><th>county</th><th>year</th><th>race</th><th>population</th><th>total_population</th><th>%population_race</th><th>race_population_rank</th></tr></thead><tbody><tr><td>Bristol</td><td>2023</td><td>W</td><td>488309</td><td>629004</td><td>77.63</td><td>1</td></tr><tr><td>Bristol</td><td>2023</td><td>H</td><td>58843</td><td>629004</td><td>9.35</td><td>2</td></tr><tr><td>Bristol</td><td>2023</td><td>B</td><td>23394</td><td>629004</td><td>3.72</td><td>3</td></tr><tr><td>Bristol</td><td>2023</td><td>ToM</td><td>15335</td><td>629004</td><td>2.44</td><td>4</td></tr><tr><td>Bristol</td><td>2023</td><td>A</td><td>14804</td><td>629004</td><td>2.35</td><td>5</td></tr><tr><td>Bristol</td><td>2023</td><td>W;H</td><td>11849</td><td>629004</td><td>1.88</td><td>6</td></tr><tr><td>Bristol</td><td>2023</td><td>O</td><td>9580</td><td>629004</td><td>1.52</td><td>7</td></tr><tr><td>Bristol</td><td>2023</td><td>B;H</td><td>2640</td><td>629004</td><td>0.42</td><td>8</td></tr><tr><td>Bristol</td><td>2023</td><td>N;H</td><td>141</td><td>629004</td><td>0.02</td><td>9</td></tr><tr><td>Bristol</td><td>2023</td><td>N</td><td>62</td><td>629004</td><td>0.01</td><td>10</td></tr></tbody></table></div>"
      ]
     },
     "metadata": {
      "application/vnd.databricks.v1+output": {
       "addedWidgets": {},
       "aggData": [],
       "aggError": "",
       "aggOverflow": false,
       "aggSchema": [],
       "aggSeriesLimitReached": false,
       "aggType": "",
       "arguments": {},
       "columnCustomDisplayInfos": {},
       "data": [
        [
         "Bristol",
         2023,
         "W",
         488309,
         629004,
         77.63,
         1
        ],
        [
         "Bristol",
         2023,
         "H",
         58843,
         629004,
         9.35,
         2
        ],
        [
         "Bristol",
         2023,
         "B",
         23394,
         629004,
         3.72,
         3
        ],
        [
         "Bristol",
         2023,
         "ToM",
         15335,
         629004,
         2.44,
         4
        ],
        [
         "Bristol",
         2023,
         "A",
         14804,
         629004,
         2.35,
         5
        ],
        [
         "Bristol",
         2023,
         "W;H",
         11849,
         629004,
         1.88,
         6
        ],
        [
         "Bristol",
         2023,
         "O",
         9580,
         629004,
         1.52,
         7
        ],
        [
         "Bristol",
         2023,
         "B;H",
         2640,
         629004,
         0.42,
         8
        ],
        [
         "Bristol",
         2023,
         "N;H",
         141,
         629004,
         0.02,
         9
        ],
        [
         "Bristol",
         2023,
         "N",
         62,
         629004,
         0.01,
         10
        ]
       ],
       "datasetInfos": [],
       "dbfsResultPath": null,
       "isJsonSchema": true,
       "metadata": {},
       "overflow": false,
       "plotOptions": {
        "customPlotOptions": {},
        "displayType": "table",
        "pivotAggregation": null,
        "pivotColumns": null,
        "xColumns": null,
        "yColumns": null
       },
       "removedWidgets": [],
       "schema": [
        {
         "metadata": "{}",
         "name": "county",
         "type": "\"string\""
        },
        {
         "metadata": "{}",
         "name": "year",
         "type": "\"long\""
        },
        {
         "metadata": "{}",
         "name": "race",
         "type": "\"string\""
        },
        {
         "metadata": "{}",
         "name": "population",
         "type": "\"long\""
        },
        {
         "metadata": "{}",
         "name": "total_population",
         "type": "\"long\""
        },
        {
         "metadata": "{}",
         "name": "%population_race",
         "type": "\"double\""
        },
        {
         "metadata": "{}",
         "name": "race_population_rank",
         "type": "\"integer\""
        }
       ],
       "type": "table"
      }
     },
     "output_type": "display_data"
    }
   ],
   "source": [
    "display(spark_county_race_df.filter((col(\"year\") == 2023) & (col(\"county\") == \"Bristol\")))"
   ]
  },
  {
   "cell_type": "code",
   "execution_count": 0,
   "metadata": {
    "application/vnd.databricks.v1+cell": {
     "cellMetadata": {},
     "inputWidgets": {},
     "nuid": "cf3d7e25-3b3c-4e1b-ae6a-1bbd08d1c53e",
     "showTitle": false,
     "tableResultSettingsMap": {},
     "title": ""
    }
   },
   "outputs": [],
   "source": []
  }
 ],
 "metadata": {
  "application/vnd.databricks.v1+notebook": {
   "computePreferences": null,
   "dashboards": [],
   "environmentMetadata": {
    "base_environment": "",
    "environment_version": "2"
   },
   "language": "python",
   "notebookMetadata": {
    "pythonIndentUnit": 4
   },
   "notebookName": "Census Bureau-API Fetch Data",
   "widgets": {}
  },
  "language_info": {
   "name": "python"
  }
 },
 "nbformat": 4,
 "nbformat_minor": 0
}