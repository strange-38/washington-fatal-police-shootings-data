{
 "cells": [
  {
   "cell_type": "markdown",
   "metadata": {
    "application/vnd.databricks.v1+cell": {
     "cellMetadata": {},
     "inputWidgets": {},
     "nuid": "5684fe68-f1c1-481b-b4fd-ebb05125569f",
     "showTitle": false,
     "tableResultSettingsMap": {},
     "title": ""
    }
   },
   "source": [
    "### Required Libraries"
   ]
  },
  {
   "cell_type": "code",
   "execution_count": 0,
   "metadata": {
    "application/vnd.databricks.v1+cell": {
     "cellMetadata": {
      "byteLimit": 2048000,
      "rowLimit": 10000
     },
     "inputWidgets": {},
     "nuid": "67323320-524f-426b-a16a-c3bf509d4497",
     "showTitle": false,
     "tableResultSettingsMap": {},
     "title": ""
    }
   },
   "outputs": [],
   "source": [
    "from pyspark.sql.functions import to_date, col, trim, regexp_replace, count, sum, round, rank, initcap, split, collect_list\n",
    "from pyspark.sql.functions import col, when, to_date, split, length\n",
    "from pyspark.sql.functions import col, lpad, concat_ws, split, to_date\n",
    "from pyspark.sql.window import Window\n"
   ]
  },
  {
   "cell_type": "markdown",
   "metadata": {
    "application/vnd.databricks.v1+cell": {
     "cellMetadata": {},
     "inputWidgets": {},
     "nuid": "45c6a0f2-035e-4c1e-a0e2-c408c8bca052",
     "showTitle": false,
     "tableResultSettingsMap": {},
     "title": ""
    }
   },
   "source": [
    "### Data Type Casting"
   ]
  },
  {
   "cell_type": "code",
   "execution_count": 0,
   "metadata": {
    "application/vnd.databricks.v1+cell": {
     "cellMetadata": {
      "byteLimit": 2048000,
      "rowLimit": 10000
     },
     "inputWidgets": {},
     "nuid": "f5c650fc-f580-4fb8-a9ba-ba26094e3b2d",
     "showTitle": false,
     "tableResultSettingsMap": {},
     "title": ""
    }
   },
   "outputs": [
    {
     "output_type": "display_data",
     "data": {
      "text/html": [
       "<style scoped>\n",
       "  .table-result-container {\n",
       "    max-height: 300px;\n",
       "    overflow: auto;\n",
       "  }\n",
       "  table, th, td {\n",
       "    border: 1px solid black;\n",
       "    border-collapse: collapse;\n",
       "  }\n",
       "  th, td {\n",
       "    padding: 5px;\n",
       "  }\n",
       "  th {\n",
       "    text-align: left;\n",
       "  }\n",
       "</style><div class='table-result-container'><table class='table-result'><thead style='background-color: white'><tr><th>id</th><th>date</th><th>threat_type</th><th>flee_status</th><th>armed_with</th><th>city</th><th>county</th><th>state</th><th>latitude</th><th>longitude</th><th>location_precision</th><th>name</th><th>age</th><th>gender</th><th>race</th><th>race_source</th><th>was_mental_illness_related</th><th>body_camera</th><th>agency_ids</th><th>year</th></tr></thead><tbody><tr><td>3</td><td>2/1/2015</td><td>point</td><td>not</td><td>gun</td><td>Shelton</td><td>Mason</td><td>WA</td><td>47.246826171875</td><td>-123.12158966064453</td><td>not_available</td><td>Tim Elliot</td><td>53</td><td>male</td><td>A</td><td>not_available</td><td>TRUE</td><td>FALSE</td><td>73</td><td>2015</td></tr><tr><td>4</td><td>2/1/2015</td><td>point</td><td>not</td><td>gun</td><td>Aloha</td><td>Washington</td><td>OR</td><td>45.487422943115234</td><td>-122.89169311523438</td><td>not_available</td><td>Lewis Lee Lembke</td><td>47</td><td>male</td><td>W</td><td>not_available</td><td>FALSE</td><td>FALSE</td><td>70</td><td>2015</td></tr><tr><td>5</td><td>3/1/2015</td><td>move</td><td>not</td><td>unarmed</td><td>Wichita</td><td>Sedgwick</td><td>KS</td><td>37.694766998291016</td><td>-97.28055572509766</td><td>not_available</td><td>John Paul Quintero</td><td>23</td><td>male</td><td>H</td><td>not_available</td><td>FALSE</td><td>FALSE</td><td>238</td><td>2015</td></tr><tr><td>8</td><td>4/1/2015</td><td>point</td><td>not</td><td>replica</td><td>San Francisco</td><td>San Francisco</td><td>CA</td><td>37.762908935546875</td><td>-122.42200469970703</td><td>not_available</td><td>Matthew Hoffman</td><td>32</td><td>male</td><td>W</td><td>not_available</td><td>TRUE</td><td>FALSE</td><td>196</td><td>2015</td></tr><tr><td>9</td><td>4/1/2015</td><td>point</td><td>not</td><td>other</td><td>Evans</td><td>Weld</td><td>CO</td><td>40.38393783569336</td><td>-104.6922607421875</td><td>not_available</td><td>Michael Rodriguez</td><td>39</td><td>male</td><td>H</td><td>not_available</td><td>FALSE</td><td>FALSE</td><td>473</td><td>2015</td></tr></tbody></table></div>"
      ]
     },
     "metadata": {
      "application/vnd.databricks.v1+output": {
       "addedWidgets": {},
       "aggData": [],
       "aggError": "",
       "aggOverflow": false,
       "aggSchema": [],
       "aggSeriesLimitReached": false,
       "aggType": "",
       "arguments": {},
       "columnCustomDisplayInfos": {},
       "data": [
        [
         "3",
         "2/1/2015",
         "point",
         "not",
         "gun",
         "Shelton",
         "Mason",
         "WA",
         47.246826171875,
         -123.12158966064453,
         "not_available",
         "Tim Elliot",
         "53",
         "male",
         "A",
         "not_available",
         "TRUE",
         "FALSE",
         "73",
         2015
        ],
        [
         "4",
         "2/1/2015",
         "point",
         "not",
         "gun",
         "Aloha",
         "Washington",
         "OR",
         45.487422943115234,
         -122.89169311523438,
         "not_available",
         "Lewis Lee Lembke",
         "47",
         "male",
         "W",
         "not_available",
         "FALSE",
         "FALSE",
         "70",
         2015
        ],
        [
         "5",
         "3/1/2015",
         "move",
         "not",
         "unarmed",
         "Wichita",
         "Sedgwick",
         "KS",
         37.694766998291016,
         -97.28055572509766,
         "not_available",
         "John Paul Quintero",
         "23",
         "male",
         "H",
         "not_available",
         "FALSE",
         "FALSE",
         "238",
         2015
        ],
        [
         "8",
         "4/1/2015",
         "point",
         "not",
         "replica",
         "San Francisco",
         "San Francisco",
         "CA",
         37.762908935546875,
         -122.42200469970703,
         "not_available",
         "Matthew Hoffman",
         "32",
         "male",
         "W",
         "not_available",
         "TRUE",
         "FALSE",
         "196",
         2015
        ],
        [
         "9",
         "4/1/2015",
         "point",
         "not",
         "other",
         "Evans",
         "Weld",
         "CO",
         40.38393783569336,
         -104.6922607421875,
         "not_available",
         "Michael Rodriguez",
         "39",
         "male",
         "H",
         "not_available",
         "FALSE",
         "FALSE",
         "473",
         2015
        ]
       ],
       "datasetInfos": [],
       "dbfsResultPath": null,
       "isJsonSchema": true,
       "metadata": {},
       "overflow": false,
       "plotOptions": {
        "customPlotOptions": {},
        "displayType": "table",
        "pivotAggregation": null,
        "pivotColumns": null,
        "xColumns": null,
        "yColumns": null
       },
       "removedWidgets": [],
       "schema": [
        {
         "metadata": "{}",
         "name": "id",
         "type": "\"string\""
        },
        {
         "metadata": "{}",
         "name": "date",
         "type": "\"string\""
        },
        {
         "metadata": "{}",
         "name": "threat_type",
         "type": "\"string\""
        },
        {
         "metadata": "{}",
         "name": "flee_status",
         "type": "\"string\""
        },
        {
         "metadata": "{}",
         "name": "armed_with",
         "type": "\"string\""
        },
        {
         "metadata": "{}",
         "name": "city",
         "type": "\"string\""
        },
        {
         "metadata": "{}",
         "name": "county",
         "type": "\"string\""
        },
        {
         "metadata": "{}",
         "name": "state",
         "type": "\"string\""
        },
        {
         "metadata": "{}",
         "name": "latitude",
         "type": "\"double\""
        },
        {
         "metadata": "{}",
         "name": "longitude",
         "type": "\"double\""
        },
        {
         "metadata": "{}",
         "name": "location_precision",
         "type": "\"string\""
        },
        {
         "metadata": "{}",
         "name": "name",
         "type": "\"string\""
        },
        {
         "metadata": "{}",
         "name": "age",
         "type": "\"string\""
        },
        {
         "metadata": "{}",
         "name": "gender",
         "type": "\"string\""
        },
        {
         "metadata": "{}",
         "name": "race",
         "type": "\"string\""
        },
        {
         "metadata": "{}",
         "name": "race_source",
         "type": "\"string\""
        },
        {
         "metadata": "{}",
         "name": "was_mental_illness_related",
         "type": "\"string\""
        },
        {
         "metadata": "{}",
         "name": "body_camera",
         "type": "\"string\""
        },
        {
         "metadata": "{}",
         "name": "agency_ids",
         "type": "\"string\""
        },
        {
         "metadata": "{}",
         "name": "year",
         "type": "\"long\""
        }
       ],
       "type": "table"
      }
     },
     "output_type": "display_data"
    }
   ],
   "source": [
    "raw_police_shooting_df = spark.table(\"fatal_police_shootings_data_csv\")\n",
    "raw_police_shooting_df = raw_police_shooting_df.withColumn(\"year\", split(col(\"date\"), \"/\")[2])\n",
    "raw_police_shooting_df = raw_police_shooting_df.filter(col(\"year\").isNotNull())\n",
    "\n",
    "police_shooting_df = raw_police_shooting_df.withColumn(\"id\", raw_police_shooting_df[\"id\"].cast(\"integer\"))\n",
    "police_shooting_df = police_shooting_df.withColumn(\"age\", police_shooting_df[\"age\"].cast(\"integer\"))\n",
    "police_shooting_df = raw_police_shooting_df.withColumn(\"year\", raw_police_shooting_df[\"year\"].cast(\"integer\"))\n",
    "police_shooting_df = police_shooting_df.withColumn(\"longitude\", police_shooting_df[\"longitude\"].cast(\"float\"))\n",
    "police_shooting_df = police_shooting_df.withColumn(\"latitude\", police_shooting_df[\"latitude\"].cast(\"float\"))\n",
    "\n",
    "display(police_shooting_df.head(5))"
   ]
  },
  {
   "cell_type": "markdown",
   "metadata": {
    "application/vnd.databricks.v1+cell": {
     "cellMetadata": {},
     "inputWidgets": {},
     "nuid": "ac98c57d-7cd3-4921-9d76-0e9ff0e9774c",
     "showTitle": false,
     "tableResultSettingsMap": {},
     "title": ""
    }
   },
   "source": [
    "### Split Filled and Empty counties data"
   ]
  },
  {
   "cell_type": "code",
   "execution_count": 0,
   "metadata": {
    "application/vnd.databricks.v1+cell": {
     "cellMetadata": {
      "byteLimit": 2048000,
      "rowLimit": 10000
     },
     "inputWidgets": {},
     "nuid": "3b47d4d8-984d-4838-a38a-43e55f9aabee",
     "showTitle": false,
     "tableResultSettingsMap": {},
     "title": ""
    }
   },
   "outputs": [],
   "source": [
    "missed_county_df = police_shooting_df.filter(police_shooting_df[\"county\"].isNull())\n",
    "filled_county_df = police_shooting_df.filter(police_shooting_df[\"county\"].isNotNull())\n"
   ]
  },
  {
   "cell_type": "markdown",
   "metadata": {
    "application/vnd.databricks.v1+cell": {
     "cellMetadata": {},
     "inputWidgets": {},
     "nuid": "6855fa24-9bba-4db1-a92b-8633b290e263",
     "showTitle": false,
     "tableResultSettingsMap": {},
     "title": ""
    }
   },
   "source": [
    "### Write Filled and Empty counties to delta tables"
   ]
  },
  {
   "cell_type": "code",
   "execution_count": 0,
   "metadata": {
    "application/vnd.databricks.v1+cell": {
     "cellMetadata": {
      "byteLimit": 2048000,
      "rowLimit": 10000
     },
     "inputWidgets": {},
     "nuid": "335333e9-3b6a-4f55-b657-a6b0b0f699be",
     "showTitle": false,
     "tableResultSettingsMap": {},
     "title": ""
    }
   },
   "outputs": [],
   "source": [
    "filled_county_df.write.format(\"delta\").mode(\"overwrite\").option(\"overwriteSchema\", \"true\").saveAsTable(\"default.police_shooting_data_filled_county_default_data\")\n",
    "missed_county_df.write.format(\"delta\").mode(\"overwrite\").option(\"overwriteSchema\", \"true\").saveAsTable(\"default.police_shooting_missing_county_default_data\")\n"
   ]
  }
 ],
 "metadata": {
  "application/vnd.databricks.v1+notebook": {
   "computePreferences": null,
   "dashboards": [],
   "environmentMetadata": {
    "base_environment": "",
    "environment_version": "2"
   },
   "language": "python",
   "notebookMetadata": {
    "pythonIndentUnit": 4
   },
   "notebookName": "Split Filled-Missing Counties",
   "widgets": {}
  },
  "language_info": {
   "name": "python"
  }
 },
 "nbformat": 4,
 "nbformat_minor": 0
}