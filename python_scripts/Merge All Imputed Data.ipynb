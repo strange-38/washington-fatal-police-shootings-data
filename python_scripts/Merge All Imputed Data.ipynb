{
 "cells": [
  {
   "cell_type": "code",
   "execution_count": 0,
   "metadata": {
    "application/vnd.databricks.v1+cell": {
     "cellMetadata": {
      "byteLimit": 2048000,
      "rowLimit": 10000
     },
     "inputWidgets": {},
     "nuid": "040c68ed-fc2e-4e99-953a-f1bad14f8164",
     "showTitle": false,
     "tableResultSettingsMap": {},
     "title": ""
    }
   },
   "outputs": [],
   "source": [
    "from pyspark.sql.functions import col, regexp_replace, when, lit, concat, mean\n"
   ]
  },
  {
   "cell_type": "code",
   "execution_count": 0,
   "metadata": {
    "application/vnd.databricks.v1+cell": {
     "cellMetadata": {
      "byteLimit": 2048000,
      "rowLimit": 10000
     },
     "inputWidgets": {},
     "nuid": "10bad7e9-ba6f-4ddc-a368-2d00a0c28a3d",
     "showTitle": false,
     "tableResultSettingsMap": {},
     "title": ""
    }
   },
   "outputs": [
    {
     "output_type": "execute_result",
     "data": {
      "text/plain": [
       "10429"
      ]
     },
     "execution_count": 2,
     "metadata": {},
     "output_type": "execute_result"
    }
   ],
   "source": [
    "raw_police_shooting_df = spark.table(\"fatal_police_shootings_data_csv\")\n",
    "raw_police_shooting_df.count()\n"
   ]
  },
  {
   "cell_type": "code",
   "execution_count": 0,
   "metadata": {
    "application/vnd.databricks.v1+cell": {
     "cellMetadata": {
      "byteLimit": 2048000,
      "rowLimit": 10000
     },
     "inputWidgets": {},
     "nuid": "e14339c6-5502-440b-911b-038df49eae9d",
     "showTitle": false,
     "tableResultSettingsMap": {},
     "title": ""
    }
   },
   "outputs": [],
   "source": [
    "filled_county_default_df = spark.table(\"default.police_shooting_data_filled_county_default_data\")\n",
    "\n",
    "# Add 'Parish' to the county column if the state is LA and county doesn't contain 'Parish'\n",
    "filled_county_default_df = filled_county_default_df.withColumn(\"county\", when((col(\"state\") == \"LA\") & (~col(\"county\").contains(\"Parish\")), concat(col(\"county\"), lit(\" Parish\"))).otherwise(col(\"county\")))\n",
    "\n",
    "city_state_imputed_df = spark.table(\"default.all_filled_county_by_city_state_df_default_data\")\n",
    "mis_spelled_imputed_df = spark.table(\"default.all_filled_misspelled_city_counties_df_default_data\")\n",
    "\n"
   ]
  },
  {
   "cell_type": "code",
   "execution_count": 0,
   "metadata": {
    "application/vnd.databricks.v1+cell": {
     "cellMetadata": {
      "byteLimit": 2048000,
      "rowLimit": 10000
     },
     "inputWidgets": {},
     "nuid": "e2e804af-b975-4285-a925-c66b354e111b",
     "showTitle": false,
     "tableResultSettingsMap": {},
     "title": ""
    }
   },
   "outputs": [
    {
     "output_type": "display_data",
     "data": {
      "text/html": [
       "<style scoped>\n",
       "  .table-result-container {\n",
       "    max-height: 300px;\n",
       "    overflow: auto;\n",
       "  }\n",
       "  table, th, td {\n",
       "    border: 1px solid black;\n",
       "    border-collapse: collapse;\n",
       "  }\n",
       "  th, td {\n",
       "    padding: 5px;\n",
       "  }\n",
       "  th {\n",
       "    text-align: left;\n",
       "  }\n",
       "</style><div class='table-result-container'><table class='table-result'><thead style='background-color: white'><tr><th>id</th><th>date</th><th>threat_type</th><th>flee_status</th><th>armed_with</th><th>city</th><th>county</th><th>state</th><th>latitude</th><th>longitude</th><th>location_precision</th><th>name</th><th>age</th><th>gender</th><th>race</th><th>race_source</th><th>was_mental_illness_related</th><th>body_camera</th><th>agency_ids</th><th>year</th></tr></thead><tbody><tr><td>117</td><td>3/2/2015</td><td>point</td><td>foot</td><td>gun</td><td>St. Louis</td><td>St. Louis</td><td>MO</td><td>38.74984</td><td>-90.20953</td><td>not_available</td><td>Ledarius D. Williams</td><td>23</td><td>male</td><td>B</td><td>not_available</td><td>FALSE</td><td>FALSE</td><td>134</td><td>2015</td></tr><tr><td>382</td><td>17/4/2015</td><td>threat</td><td>not</td><td>knife</td><td>Jennings</td><td>St. Louis</td><td>MO</td><td>38.724247</td><td>-90.24393</td><td>not_available</td><td>Thaddeus McCarroll</td><td>23</td><td>male</td><td>B</td><td>not_available</td><td>TRUE</td><td>TRUE</td><td>268</td><td>2015</td></tr><tr><td>985</td><td>5/11/2015</td><td>attack</td><td>not</td><td>blunt_object</td><td>Lakeshire</td><td>St. Louis</td><td>MO</td><td>38.538166</td><td>-90.34138</td><td>not_available</td><td>Jacob Hohman</td><td>30</td><td>male</td><td>W</td><td>not_available</td><td>FALSE</td><td>FALSE</td><td>906;268</td><td>2015</td></tr><tr><td>1061</td><td>5/12/2015</td><td>shoot</td><td>not</td><td>gun</td><td>St. Louis</td><td>St. Louis</td><td>MO</td><td>38.811077</td><td>-90.23915</td><td>not_available</td><td>Sheilah Huck</td><td>61</td><td>female</td><td>W</td><td>not_available</td><td>TRUE</td><td>FALSE</td><td>268</td><td>2015</td></tr><tr><td>2241</td><td>19/1/2017</td><td>attack</td><td>not</td><td>knife</td><td>Florissant</td><td>St. Louis</td><td>MO</td><td>38.79717</td><td>-90.299416</td><td>not_available</td><td>Elijah Smith</td><td>25</td><td>male</td><td>W</td><td>not_available</td><td>TRUE</td><td>FALSE</td><td>1620</td><td>2017</td></tr><tr><td>2441</td><td>19/3/2017</td><td>point</td><td>other</td><td>gun</td><td>Affton</td><td>St. Louis</td><td>MO</td><td>38.543407</td><td>-90.29839</td><td>not_available</td><td>Clifton Knickmeyer</td><td>59</td><td>male</td><td>W</td><td>not_available</td><td>FALSE</td><td>FALSE</td><td>268</td><td>2017</td></tr><tr><td>2798</td><td>24/7/2017</td><td>shoot</td><td>car</td><td>gun</td><td>St. Louis</td><td>St. Louis</td><td>MO</td><td>38.511242</td><td>-90.33596</td><td>not_available</td><td>Jerrod Kershaw</td><td>31</td><td>male</td><td>W</td><td>not_available</td><td>TRUE</td><td>FALSE</td><td>1817</td><td>2017</td></tr><tr><td>3022</td><td>1/10/2017</td><td>threat</td><td>not</td><td>gun;knife</td><td>St. Louis</td><td>St. Louis</td><td>MO</td><td>38.5694</td><td>-90.31096</td><td>not_available</td><td>Joshua Lanflisi</td><td>38</td><td>male</td><td>W</td><td>not_available</td><td>TRUE</td><td>FALSE</td><td>268</td><td>2017</td></tr><tr><td>3446</td><td>26/2/2018</td><td>shoot</td><td>not</td><td>gun</td><td>St. Louis</td><td>St. Louis</td><td>MO</td><td>38.7522</td><td>-90.2083</td><td>not_available</td><td>William Watson Jr.</td><td>40</td><td>male</td><td>B</td><td>not_available</td><td>FALSE</td><td>FALSE</td><td>2080</td><td>2018</td></tr><tr><td>8724</td><td>7/12/2022</td><td>threat</td><td>not</td><td>knife</td><td>Maryland Heights</td><td>St. Louis</td><td>MO</td><td>38.753838</td><td>-90.47093</td><td>address</td><td>Mark David Davenport</td><td>48</td><td>male</td><td>W</td><td>photo</td><td>FALSE</td><td>FALSE</td><td>28800</td><td>2022</td></tr><tr><td>9740</td><td>20/9/2023</td><td>shoot</td><td>not</td><td>gun</td><td>St. Louis</td><td>St. Louis</td><td>MO</td><td>38.552032</td><td>-90.322426</td><td>block</td><td>Karl Schuhe</td><td>59</td><td>male</td><td>null</td><td>null</td><td>FALSE</td><td>TRUE</td><td>268</td><td>2023</td></tr><tr><td>10340</td><td>16/4/2024</td><td>undetermined</td><td>not</td><td>gun</td><td>Ferguson</td><td>St. Louis</td><td>MO</td><td>38.76581</td><td>-90.28061</td><td>block</td><td>Joshua Campbell</td><td>18</td><td>male</td><td>null</td><td>null</td><td>FALSE</td><td>FALSE</td><td>10660</td><td>2024</td></tr><tr><td>10922</td><td>6/9/2024</td><td>shoot</td><td>car</td><td>gun</td><td>Afton</td><td>St. Louis</td><td>MO</td><td>38.562927</td><td>-90.358086</td><td>intersection</td><td>Ryan D. Phillips</td><td>33</td><td>male</td><td>B</td><td>photo</td><td>FALSE</td><td>FALSE</td><td>1264</td><td>2024</td></tr></tbody></table></div>"
      ]
     },
     "metadata": {
      "application/vnd.databricks.v1+output": {
       "addedWidgets": {},
       "aggData": [],
       "aggError": "",
       "aggOverflow": false,
       "aggSchema": [],
       "aggSeriesLimitReached": false,
       "aggType": "",
       "arguments": {},
       "columnCustomDisplayInfos": {},
       "data": [
        [
         "117",
         "3/2/2015",
         "point",
         "foot",
         "gun",
         "St. Louis",
         "St. Louis",
         "MO",
         38.74984,
         -90.20953,
         "not_available",
         "Ledarius D. Williams",
         "23",
         "male",
         "B",
         "not_available",
         "FALSE",
         "FALSE",
         "134",
         2015
        ],
        [
         "382",
         "17/4/2015",
         "threat",
         "not",
         "knife",
         "Jennings",
         "St. Louis",
         "MO",
         38.724247,
         -90.24393,
         "not_available",
         "Thaddeus McCarroll",
         "23",
         "male",
         "B",
         "not_available",
         "TRUE",
         "TRUE",
         "268",
         2015
        ],
        [
         "985",
         "5/11/2015",
         "attack",
         "not",
         "blunt_object",
         "Lakeshire",
         "St. Louis",
         "MO",
         38.538166,
         -90.34138,
         "not_available",
         "Jacob Hohman",
         "30",
         "male",
         "W",
         "not_available",
         "FALSE",
         "FALSE",
         "906;268",
         2015
        ],
        [
         "1061",
         "5/12/2015",
         "shoot",
         "not",
         "gun",
         "St. Louis",
         "St. Louis",
         "MO",
         38.811077,
         -90.23915,
         "not_available",
         "Sheilah Huck",
         "61",
         "female",
         "W",
         "not_available",
         "TRUE",
         "FALSE",
         "268",
         2015
        ],
        [
         "2241",
         "19/1/2017",
         "attack",
         "not",
         "knife",
         "Florissant",
         "St. Louis",
         "MO",
         38.79717,
         -90.299416,
         "not_available",
         "Elijah Smith",
         "25",
         "male",
         "W",
         "not_available",
         "TRUE",
         "FALSE",
         "1620",
         2017
        ],
        [
         "2441",
         "19/3/2017",
         "point",
         "other",
         "gun",
         "Affton",
         "St. Louis",
         "MO",
         38.543407,
         -90.29839,
         "not_available",
         "Clifton Knickmeyer",
         "59",
         "male",
         "W",
         "not_available",
         "FALSE",
         "FALSE",
         "268",
         2017
        ],
        [
         "2798",
         "24/7/2017",
         "shoot",
         "car",
         "gun",
         "St. Louis",
         "St. Louis",
         "MO",
         38.511242,
         -90.33596,
         "not_available",
         "Jerrod Kershaw",
         "31",
         "male",
         "W",
         "not_available",
         "TRUE",
         "FALSE",
         "1817",
         2017
        ],
        [
         "3022",
         "1/10/2017",
         "threat",
         "not",
         "gun;knife",
         "St. Louis",
         "St. Louis",
         "MO",
         38.5694,
         -90.31096,
         "not_available",
         "Joshua Lanflisi",
         "38",
         "male",
         "W",
         "not_available",
         "TRUE",
         "FALSE",
         "268",
         2017
        ],
        [
         "3446",
         "26/2/2018",
         "shoot",
         "not",
         "gun",
         "St. Louis",
         "St. Louis",
         "MO",
         38.7522,
         -90.2083,
         "not_available",
         "William Watson Jr.",
         "40",
         "male",
         "B",
         "not_available",
         "FALSE",
         "FALSE",
         "2080",
         2018
        ],
        [
         "8724",
         "7/12/2022",
         "threat",
         "not",
         "knife",
         "Maryland Heights",
         "St. Louis",
         "MO",
         38.753838,
         -90.47093,
         "address",
         "Mark David Davenport",
         "48",
         "male",
         "W",
         "photo",
         "FALSE",
         "FALSE",
         "28800",
         2022
        ],
        [
         "9740",
         "20/9/2023",
         "shoot",
         "not",
         "gun",
         "St. Louis",
         "St. Louis",
         "MO",
         38.552032,
         -90.322426,
         "block",
         "Karl Schuhe",
         "59",
         "male",
         null,
         null,
         "FALSE",
         "TRUE",
         "268",
         2023
        ],
        [
         "10340",
         "16/4/2024",
         "undetermined",
         "not",
         "gun",
         "Ferguson",
         "St. Louis",
         "MO",
         38.76581,
         -90.28061,
         "block",
         "Joshua Campbell",
         "18",
         "male",
         null,
         null,
         "FALSE",
         "FALSE",
         "10660",
         2024
        ],
        [
         "10922",
         "6/9/2024",
         "shoot",
         "car",
         "gun",
         "Afton",
         "St. Louis",
         "MO",
         38.562927,
         -90.358086,
         "intersection",
         "Ryan D. Phillips",
         "33",
         "male",
         "B",
         "photo",
         "FALSE",
         "FALSE",
         "1264",
         2024
        ]
       ],
       "datasetInfos": [],
       "dbfsResultPath": null,
       "isJsonSchema": true,
       "metadata": {},
       "overflow": false,
       "plotOptions": {
        "customPlotOptions": {},
        "displayType": "table",
        "pivotAggregation": null,
        "pivotColumns": null,
        "xColumns": null,
        "yColumns": null
       },
       "removedWidgets": [],
       "schema": [
        {
         "metadata": "{}",
         "name": "id",
         "type": "\"string\""
        },
        {
         "metadata": "{}",
         "name": "date",
         "type": "\"string\""
        },
        {
         "metadata": "{}",
         "name": "threat_type",
         "type": "\"string\""
        },
        {
         "metadata": "{}",
         "name": "flee_status",
         "type": "\"string\""
        },
        {
         "metadata": "{}",
         "name": "armed_with",
         "type": "\"string\""
        },
        {
         "metadata": "{}",
         "name": "city",
         "type": "\"string\""
        },
        {
         "metadata": "{}",
         "name": "county",
         "type": "\"string\""
        },
        {
         "metadata": "{}",
         "name": "state",
         "type": "\"string\""
        },
        {
         "metadata": "{}",
         "name": "latitude",
         "type": "\"float\""
        },
        {
         "metadata": "{}",
         "name": "longitude",
         "type": "\"float\""
        },
        {
         "metadata": "{}",
         "name": "location_precision",
         "type": "\"string\""
        },
        {
         "metadata": "{}",
         "name": "name",
         "type": "\"string\""
        },
        {
         "metadata": "{}",
         "name": "age",
         "type": "\"string\""
        },
        {
         "metadata": "{}",
         "name": "gender",
         "type": "\"string\""
        },
        {
         "metadata": "{}",
         "name": "race",
         "type": "\"string\""
        },
        {
         "metadata": "{}",
         "name": "race_source",
         "type": "\"string\""
        },
        {
         "metadata": "{}",
         "name": "was_mental_illness_related",
         "type": "\"string\""
        },
        {
         "metadata": "{}",
         "name": "body_camera",
         "type": "\"string\""
        },
        {
         "metadata": "{}",
         "name": "agency_ids",
         "type": "\"string\""
        },
        {
         "metadata": "{}",
         "name": "year",
         "type": "\"integer\""
        }
       ],
       "type": "table"
      }
     },
     "output_type": "display_data"
    }
   ],
   "source": [
    "display(filled_county_default_df.filter(((col(\"state\") == \"MO\")) & (col(\"county\") == \"St. Louis\")))"
   ]
  },
  {
   "cell_type": "code",
   "execution_count": 0,
   "metadata": {
    "application/vnd.databricks.v1+cell": {
     "cellMetadata": {
      "byteLimit": 2048000,
      "rowLimit": 10000
     },
     "inputWidgets": {},
     "nuid": "f296ba4f-2827-4e88-aafa-344d7ece31e3",
     "showTitle": false,
     "tableResultSettingsMap": {},
     "title": ""
    }
   },
   "outputs": [
    {
     "output_type": "stream",
     "name": "stdout",
     "output_type": "stream",
     "text": [
      "5737\n4677\n15\n"
     ]
    }
   ],
   "source": [
    "print(filled_county_default_df.count())\n",
    "print(city_state_imputed_df.count())\n",
    "print(mis_spelled_imputed_df.count())"
   ]
  },
  {
   "cell_type": "code",
   "execution_count": 0,
   "metadata": {
    "application/vnd.databricks.v1+cell": {
     "cellMetadata": {
      "byteLimit": 2048000,
      "rowLimit": 10000
     },
     "inputWidgets": {},
     "nuid": "64af2ec7-ad3d-47bc-a1d3-42e62fd86efc",
     "showTitle": false,
     "tableResultSettingsMap": {},
     "title": ""
    }
   },
   "outputs": [
    {
     "output_type": "stream",
     "name": "stdout",
     "output_type": "stream",
     "text": [
      "10429\n"
     ]
    }
   ],
   "source": [
    "print(filled_county_default_df.count()+city_state_imputed_df.count()+mis_spelled_imputed_df.count())"
   ]
  },
  {
   "cell_type": "code",
   "execution_count": 0,
   "metadata": {
    "application/vnd.databricks.v1+cell": {
     "cellMetadata": {
      "byteLimit": 2048000,
      "rowLimit": 10000
     },
     "inputWidgets": {},
     "nuid": "45bbe053-05b4-44c4-8377-245368a36391",
     "showTitle": false,
     "tableResultSettingsMap": {},
     "title": ""
    }
   },
   "outputs": [],
   "source": [
    "final_imputed_df = filled_county_default_df.unionByName(city_state_imputed_df).unionByName(mis_spelled_imputed_df)\n",
    "final_imputed_df = final_imputed_df.withColumn(\"county\", regexp_replace(col(\"county\"), r\"^Saint\\b\", \"St.\"))\n"
   ]
  },
  {
   "cell_type": "code",
   "execution_count": 0,
   "metadata": {
    "application/vnd.databricks.v1+cell": {
     "cellMetadata": {
      "byteLimit": 2048000,
      "rowLimit": 10000
     },
     "inputWidgets": {},
     "nuid": "a6c247ed-4f90-4b83-a7b5-d6d1c0099089",
     "showTitle": false,
     "tableResultSettingsMap": {},
     "title": ""
    }
   },
   "outputs": [
    {
     "output_type": "execute_result",
     "data": {
      "text/plain": [
       "10429"
      ]
     },
     "execution_count": 10,
     "metadata": {},
     "output_type": "execute_result"
    }
   ],
   "source": [
    "final_imputed_df.filter(col(\"county\").isNotNull()).count()"
   ]
  },
  {
   "cell_type": "code",
   "execution_count": 0,
   "metadata": {
    "application/vnd.databricks.v1+cell": {
     "cellMetadata": {
      "byteLimit": 2048000,
      "rowLimit": 10000
     },
     "inputWidgets": {},
     "nuid": "f065d8dc-6fdd-426e-8fe5-a8086b9784b3",
     "showTitle": false,
     "tableResultSettingsMap": {},
     "title": ""
    }
   },
   "outputs": [],
   "source": [
    "final_imputed_df.write.format(\"delta\").mode(\"overwrite\").saveAsTable(\"default.imputed_county_washington_police_shootings_data\")"
   ]
  },
  {
   "cell_type": "markdown",
   "metadata": {
    "application/vnd.databricks.v1+cell": {
     "cellMetadata": {
      "byteLimit": 2048000,
      "rowLimit": 10000
     },
     "inputWidgets": {},
     "nuid": "10ed8712-9832-4695-b754-dd9440908abe",
     "showTitle": false,
     "tableResultSettingsMap": {},
     "title": ""
    }
   },
   "source": [
    "## Yearly Shooting Calculations"
   ]
  },
  {
   "cell_type": "code",
   "execution_count": 0,
   "metadata": {
    "application/vnd.databricks.v1+cell": {
     "cellMetadata": {
      "byteLimit": 2048000,
      "rowLimit": 10000
     },
     "inputWidgets": {},
     "nuid": "b5590087-309f-4c56-afbe-1177f35dc763",
     "showTitle": false,
     "tableResultSettingsMap": {},
     "title": ""
    }
   },
   "outputs": [],
   "source": [
    "from pyspark.sql.functions import col, regexp_replace\n",
    "\n",
    "# display(final_imputed_df)"
   ]
  },
  {
   "cell_type": "markdown",
   "metadata": {
    "application/vnd.databricks.v1+cell": {
     "cellMetadata": {
      "byteLimit": 2048000,
      "rowLimit": 10000
     },
     "inputWidgets": {},
     "nuid": "acd825f3-9d0c-4f5a-b9a4-f396d4c62c01",
     "showTitle": false,
     "tableResultSettingsMap": {},
     "title": ""
    }
   },
   "source": [
    "## Distribution Of Race Shootings Per County By Year"
   ]
  },
  {
   "cell_type": "code",
   "execution_count": 0,
   "metadata": {
    "application/vnd.databricks.v1+cell": {
     "cellMetadata": {
      "byteLimit": 2048000,
      "rowLimit": 10000
     },
     "inputWidgets": {},
     "nuid": "83d11180-0aef-4658-80b4-d6c14b9cd549",
     "showTitle": false,
     "tableResultSettingsMap": {},
     "title": ""
    }
   },
   "outputs": [],
   "source": [
    "from pyspark.sql.functions import to_date, col, trim, regexp_replace, count, sum, round, rank, initcap, split, dense_rank\n",
    "from pyspark.sql.functions import col, when, to_date, split, length\n",
    "from pyspark.sql.functions import col, lpad, concat_ws, split, to_date\n",
    "from pyspark.sql.window import Window\n"
   ]
  },
  {
   "cell_type": "markdown",
   "metadata": {
    "application/vnd.databricks.v1+cell": {
     "cellMetadata": {
      "byteLimit": 2048000,
      "rowLimit": 10000
     },
     "inputWidgets": {},
     "nuid": "7265662b-4084-49aa-9cba-1fdf6d036a9a",
     "showTitle": false,
     "tableResultSettingsMap": {},
     "title": ""
    }
   },
   "source": [
    "### Count shooting for each race by county and year"
   ]
  },
  {
   "cell_type": "code",
   "execution_count": 0,
   "metadata": {
    "application/vnd.databricks.v1+cell": {
     "cellMetadata": {
      "byteLimit": 2048000,
      "rowLimit": 10000
     },
     "inputWidgets": {},
     "nuid": "0b7c738c-0b36-4221-8b65-75880dc2077e",
     "showTitle": false,
     "tableResultSettingsMap": {},
     "title": ""
    }
   },
   "outputs": [],
   "source": [
    "imputed_county_shooting_df = spark.table(\"default.imputed_county_washington_police_shootings_data\")\n",
    "imputed_county_shooting_df = imputed_county_shooting_df.withColumn(\"race\", when(col(\"race\").isin([\"W;A\", \"W;B\", \"W;B;N\"]), \"ToM\")\n",
    "                           .otherwise(col(\"race\")))\n",
    "\n",
    "# Fill 'null' values only in the 'name' column with 'NA'\n",
    "imputed_county_shooting_df = imputed_county_shooting_df.fillna({\"race\": \"NA\"})\n",
    "shooting_per_races_df = imputed_county_shooting_df.groupBy([\"county\", \"year\", \"race\"]).agg(count(\"id\").alias(\"shooting_count\"))\n"
   ]
  },
  {
   "cell_type": "code",
   "execution_count": 0,
   "metadata": {
    "application/vnd.databricks.v1+cell": {
     "cellMetadata": {
      "byteLimit": 2048000,
      "rowLimit": 10000
     },
     "inputWidgets": {},
     "nuid": "c8d3460c-668d-481d-974e-ddb2fa2ac03b",
     "showTitle": false,
     "tableResultSettingsMap": {},
     "title": ""
    }
   },
   "outputs": [
    {
     "output_type": "display_data",
     "data": {
      "text/html": [
       "<style scoped>\n",
       "  .table-result-container {\n",
       "    max-height: 300px;\n",
       "    overflow: auto;\n",
       "  }\n",
       "  table, th, td {\n",
       "    border: 1px solid black;\n",
       "    border-collapse: collapse;\n",
       "  }\n",
       "  th, td {\n",
       "    padding: 5px;\n",
       "  }\n",
       "  th {\n",
       "    text-align: left;\n",
       "  }\n",
       "</style><div class='table-result-container'><table class='table-result'><thead style='background-color: white'><tr><th>county</th><th>year</th><th>race</th><th>shooting_count</th></tr></thead><tbody><tr><td>Baltimore</td><td>2023</td><td>B</td><td>1</td></tr><tr><td>Fulton</td><td>2021</td><td>B</td><td>5</td></tr><tr><td>Cook</td><td>2020</td><td>B</td><td>5</td></tr><tr><td>Baltimore</td><td>2024</td><td>B</td><td>1</td></tr><tr><td>Fulton</td><td>2024</td><td>B</td><td>3</td></tr><tr><td>Baltimore</td><td>2019</td><td>B</td><td>7</td></tr><tr><td>Baltimore</td><td>2022</td><td>B</td><td>3</td></tr><tr><td>Richland</td><td>2022</td><td>B</td><td>1</td></tr><tr><td>Fulton</td><td>2022</td><td>B</td><td>5</td></tr><tr><td>New York</td><td>2015</td><td>B</td><td>1</td></tr><tr><td>Fulton</td><td>2016</td><td>B</td><td>3</td></tr><tr><td>New York</td><td>2019</td><td>B</td><td>8</td></tr><tr><td>Cook</td><td>2016</td><td>B</td><td>12</td></tr><tr><td>San Joaquin</td><td>2023</td><td>B</td><td>2</td></tr><tr><td>San Joaquin</td><td>2016</td><td>B</td><td>2</td></tr><tr><td>Fulton</td><td>2015</td><td>B</td><td>2</td></tr><tr><td>El Paso</td><td>2016</td><td>B</td><td>2</td></tr><tr><td>Cuyahoga</td><td>2015</td><td>B</td><td>4</td></tr><tr><td>New York</td><td>2022</td><td>B</td><td>5</td></tr><tr><td>Cuyahoga</td><td>2017</td><td>B</td><td>2</td></tr><tr><td>Baltimore</td><td>2015</td><td>B</td><td>3</td></tr><tr><td>San Bernardino</td><td>2019</td><td>B</td><td>1</td></tr><tr><td>Hennepin</td><td>2023</td><td>B</td><td>1</td></tr><tr><td>Richland</td><td>2020</td><td>B</td><td>1</td></tr><tr><td>San Joaquin</td><td>2021</td><td>B</td><td>1</td></tr><tr><td>San Bernardino</td><td>2016</td><td>B</td><td>1</td></tr><tr><td>Cook</td><td>2024</td><td>B</td><td>2</td></tr><tr><td>San Joaquin</td><td>2020</td><td>B</td><td>2</td></tr><tr><td>Hennepin</td><td>2021</td><td>B</td><td>2</td></tr><tr><td>San Bernardino</td><td>2022</td><td>B</td><td>3</td></tr><tr><td>Hennepin</td><td>2018</td><td>B</td><td>2</td></tr><tr><td>Hennepin</td><td>2015</td><td>B</td><td>1</td></tr><tr><td>Richland</td><td>2019</td><td>B</td><td>1</td></tr><tr><td>Baltimore</td><td>2020</td><td>B</td><td>3</td></tr><tr><td>Cook</td><td>2018</td><td>B</td><td>6</td></tr><tr><td>San Joaquin</td><td>2019</td><td>B</td><td>1</td></tr><tr><td>San Bernardino</td><td>2024</td><td>B</td><td>1</td></tr><tr><td>San Joaquin</td><td>2022</td><td>B</td><td>1</td></tr><tr><td>New York</td><td>2023</td><td>B</td><td>2</td></tr><tr><td>San Bernardino</td><td>2017</td><td>B</td><td>1</td></tr><tr><td>Fulton</td><td>2019</td><td>B</td><td>5</td></tr><tr><td>Cuyahoga</td><td>2023</td><td>B</td><td>1</td></tr><tr><td>Cook</td><td>2015</td><td>B</td><td>9</td></tr><tr><td>Cuyahoga</td><td>2019</td><td>B</td><td>2</td></tr><tr><td>Hennepin</td><td>2020</td><td>B</td><td>1</td></tr><tr><td>Cook</td><td>2017</td><td>B</td><td>5</td></tr><tr><td>New York</td><td>2021</td><td>B</td><td>1</td></tr><tr><td>Cuyahoga</td><td>2022</td><td>B</td><td>3</td></tr><tr><td>New York</td><td>2020</td><td>B</td><td>4</td></tr><tr><td>Fulton</td><td>2018</td><td>B</td><td>7</td></tr><tr><td>San Bernardino</td><td>2018</td><td>B</td><td>2</td></tr><tr><td>Hennepin</td><td>2019</td><td>B</td><td>2</td></tr><tr><td>Cuyahoga</td><td>2021</td><td>B</td><td>4</td></tr><tr><td>Fulton</td><td>2017</td><td>B</td><td>2</td></tr><tr><td>San Bernardino</td><td>2023</td><td>B</td><td>1</td></tr><tr><td>San Bernardino</td><td>2015</td><td>B</td><td>1</td></tr><tr><td>San Bernardino</td><td>2021</td><td>B</td><td>2</td></tr><tr><td>Richland</td><td>2021</td><td>B</td><td>1</td></tr><tr><td>Baltimore</td><td>2017</td><td>B</td><td>2</td></tr><tr><td>Cuyahoga</td><td>2024</td><td>B</td><td>1</td></tr><tr><td>Richland</td><td>2023</td><td>B</td><td>1</td></tr><tr><td>Baltimore</td><td>2021</td><td>B</td><td>7</td></tr><tr><td>Fulton</td><td>2020</td><td>B</td><td>5</td></tr><tr><td>Cook</td><td>2021</td><td>B</td><td>10</td></tr><tr><td>Hennepin</td><td>2024</td><td>B</td><td>1</td></tr><tr><td>Baltimore</td><td>2016</td><td>B</td><td>2</td></tr><tr><td>Cook</td><td>2019</td><td>B</td><td>5</td></tr><tr><td>El Paso</td><td>2020</td><td>B</td><td>1</td></tr><tr><td>New York</td><td>2024</td><td>B</td><td>1</td></tr><tr><td>El Paso</td><td>2019</td><td>B</td><td>1</td></tr><tr><td>El Paso</td><td>2022</td><td>B</td><td>1</td></tr><tr><td>San Bernardino</td><td>2020</td><td>B</td><td>3</td></tr><tr><td>Hennepin</td><td>2022</td><td>B</td><td>2</td></tr><tr><td>Fulton</td><td>2023</td><td>B</td><td>3</td></tr><tr><td>Cook</td><td>2023</td><td>B</td><td>4</td></tr><tr><td>El Paso</td><td>2021</td><td>B</td><td>1</td></tr><tr><td>Cook</td><td>2022</td><td>B</td><td>4</td></tr><tr><td>Baltimore</td><td>2018</td><td>B</td><td>2</td></tr><tr><td>New York</td><td>2017</td><td>B</td><td>1</td></tr><tr><td>El Paso</td><td>2023</td><td>B</td><td>1</td></tr><tr><td>El Paso</td><td>2015</td><td>B</td><td>1</td></tr><tr><td>Cuyahoga</td><td>2020</td><td>B</td><td>2</td></tr></tbody></table></div>"
      ]
     },
     "metadata": {
      "application/vnd.databricks.v1+output": {
       "addedWidgets": {},
       "aggData": [],
       "aggError": "",
       "aggOverflow": false,
       "aggSchema": [],
       "aggSeriesLimitReached": false,
       "aggType": "",
       "arguments": {},
       "columnCustomDisplayInfos": {},
       "data": [
        [
         "Baltimore",
         2023,
         "B",
         1
        ],
        [
         "Fulton",
         2021,
         "B",
         5
        ],
        [
         "Cook",
         2020,
         "B",
         5
        ],
        [
         "Baltimore",
         2024,
         "B",
         1
        ],
        [
         "Fulton",
         2024,
         "B",
         3
        ],
        [
         "Baltimore",
         2019,
         "B",
         7
        ],
        [
         "Baltimore",
         2022,
         "B",
         3
        ],
        [
         "Richland",
         2022,
         "B",
         1
        ],
        [
         "Fulton",
         2022,
         "B",
         5
        ],
        [
         "New York",
         2015,
         "B",
         1
        ],
        [
         "Fulton",
         2016,
         "B",
         3
        ],
        [
         "New York",
         2019,
         "B",
         8
        ],
        [
         "Cook",
         2016,
         "B",
         12
        ],
        [
         "San Joaquin",
         2023,
         "B",
         2
        ],
        [
         "San Joaquin",
         2016,
         "B",
         2
        ],
        [
         "Fulton",
         2015,
         "B",
         2
        ],
        [
         "El Paso",
         2016,
         "B",
         2
        ],
        [
         "Cuyahoga",
         2015,
         "B",
         4
        ],
        [
         "New York",
         2022,
         "B",
         5
        ],
        [
         "Cuyahoga",
         2017,
         "B",
         2
        ],
        [
         "Baltimore",
         2015,
         "B",
         3
        ],
        [
         "San Bernardino",
         2019,
         "B",
         1
        ],
        [
         "Hennepin",
         2023,
         "B",
         1
        ],
        [
         "Richland",
         2020,
         "B",
         1
        ],
        [
         "San Joaquin",
         2021,
         "B",
         1
        ],
        [
         "San Bernardino",
         2016,
         "B",
         1
        ],
        [
         "Cook",
         2024,
         "B",
         2
        ],
        [
         "San Joaquin",
         2020,
         "B",
         2
        ],
        [
         "Hennepin",
         2021,
         "B",
         2
        ],
        [
         "San Bernardino",
         2022,
         "B",
         3
        ],
        [
         "Hennepin",
         2018,
         "B",
         2
        ],
        [
         "Hennepin",
         2015,
         "B",
         1
        ],
        [
         "Richland",
         2019,
         "B",
         1
        ],
        [
         "Baltimore",
         2020,
         "B",
         3
        ],
        [
         "Cook",
         2018,
         "B",
         6
        ],
        [
         "San Joaquin",
         2019,
         "B",
         1
        ],
        [
         "San Bernardino",
         2024,
         "B",
         1
        ],
        [
         "San Joaquin",
         2022,
         "B",
         1
        ],
        [
         "New York",
         2023,
         "B",
         2
        ],
        [
         "San Bernardino",
         2017,
         "B",
         1
        ],
        [
         "Fulton",
         2019,
         "B",
         5
        ],
        [
         "Cuyahoga",
         2023,
         "B",
         1
        ],
        [
         "Cook",
         2015,
         "B",
         9
        ],
        [
         "Cuyahoga",
         2019,
         "B",
         2
        ],
        [
         "Hennepin",
         2020,
         "B",
         1
        ],
        [
         "Cook",
         2017,
         "B",
         5
        ],
        [
         "New York",
         2021,
         "B",
         1
        ],
        [
         "Cuyahoga",
         2022,
         "B",
         3
        ],
        [
         "New York",
         2020,
         "B",
         4
        ],
        [
         "Fulton",
         2018,
         "B",
         7
        ],
        [
         "San Bernardino",
         2018,
         "B",
         2
        ],
        [
         "Hennepin",
         2019,
         "B",
         2
        ],
        [
         "Cuyahoga",
         2021,
         "B",
         4
        ],
        [
         "Fulton",
         2017,
         "B",
         2
        ],
        [
         "San Bernardino",
         2023,
         "B",
         1
        ],
        [
         "San Bernardino",
         2015,
         "B",
         1
        ],
        [
         "San Bernardino",
         2021,
         "B",
         2
        ],
        [
         "Richland",
         2021,
         "B",
         1
        ],
        [
         "Baltimore",
         2017,
         "B",
         2
        ],
        [
         "Cuyahoga",
         2024,
         "B",
         1
        ],
        [
         "Richland",
         2023,
         "B",
         1
        ],
        [
         "Baltimore",
         2021,
         "B",
         7
        ],
        [
         "Fulton",
         2020,
         "B",
         5
        ],
        [
         "Cook",
         2021,
         "B",
         10
        ],
        [
         "Hennepin",
         2024,
         "B",
         1
        ],
        [
         "Baltimore",
         2016,
         "B",
         2
        ],
        [
         "Cook",
         2019,
         "B",
         5
        ],
        [
         "El Paso",
         2020,
         "B",
         1
        ],
        [
         "New York",
         2024,
         "B",
         1
        ],
        [
         "El Paso",
         2019,
         "B",
         1
        ],
        [
         "El Paso",
         2022,
         "B",
         1
        ],
        [
         "San Bernardino",
         2020,
         "B",
         3
        ],
        [
         "Hennepin",
         2022,
         "B",
         2
        ],
        [
         "Fulton",
         2023,
         "B",
         3
        ],
        [
         "Cook",
         2023,
         "B",
         4
        ],
        [
         "El Paso",
         2021,
         "B",
         1
        ],
        [
         "Cook",
         2022,
         "B",
         4
        ],
        [
         "Baltimore",
         2018,
         "B",
         2
        ],
        [
         "New York",
         2017,
         "B",
         1
        ],
        [
         "El Paso",
         2023,
         "B",
         1
        ],
        [
         "El Paso",
         2015,
         "B",
         1
        ],
        [
         "Cuyahoga",
         2020,
         "B",
         2
        ]
       ],
       "datasetInfos": [],
       "dbfsResultPath": null,
       "isJsonSchema": true,
       "metadata": {},
       "overflow": false,
       "plotOptions": {
        "customPlotOptions": {},
        "displayType": "table",
        "pivotAggregation": null,
        "pivotColumns": null,
        "xColumns": null,
        "yColumns": null
       },
       "removedWidgets": [],
       "schema": [
        {
         "metadata": "{}",
         "name": "county",
         "type": "\"string\""
        },
        {
         "metadata": "{}",
         "name": "year",
         "type": "\"integer\""
        },
        {
         "metadata": "{}",
         "name": "race",
         "type": "\"string\""
        },
        {
         "metadata": "{}",
         "name": "shooting_count",
         "type": "\"long\""
        }
       ],
       "type": "table"
      }
     },
     "output_type": "display_data"
    }
   ],
   "source": [
    "display(shooting_per_races_df.filter((col(\"county\").isin(\"Richland\", \"Fulton\", \"Cook\", \"San Joaquin\", \"El Paso\", \"San Bernardino\", \"Baltimore\", \"New York\", \"Hennepin\", \"Cuyahoga\")) & (col(\"race\") == \"B\")))"
   ]
  },
  {
   "cell_type": "markdown",
   "metadata": {
    "application/vnd.databricks.v1+cell": {
     "cellMetadata": {
      "byteLimit": 2048000,
      "rowLimit": 10000
     },
     "inputWidgets": {},
     "nuid": "5adf3d6d-d807-4a0d-b089-105620e45d9a",
     "showTitle": false,
     "tableResultSettingsMap": {},
     "title": ""
    }
   },
   "source": [
    "### Add missing years shooting data for each race as 0"
   ]
  },
  {
   "cell_type": "code",
   "execution_count": 0,
   "metadata": {
    "application/vnd.databricks.v1+cell": {
     "cellMetadata": {
      "byteLimit": 2048000,
      "rowLimit": 10000
     },
     "inputWidgets": {},
     "nuid": "c1107e35-febd-4321-ba73-691f80bcc2a0",
     "showTitle": false,
     "tableResultSettingsMap": {},
     "title": ""
    }
   },
   "outputs": [],
   "source": [
    "from pyspark.sql.functions import expr\n",
    "\n",
    "# Pivot the DataFrame\n",
    "pivot_df = shooting_per_races_df.groupBy(\"county\", \"race\").pivot(\"year\").agg({\"shooting_count\": \"sum\"})\n",
    "\n",
    "# List all years explicitly from the pivoted DataFrame\n",
    "years = [str(y) for y in range(2015, 2025)]  # Generating year column names as strings\n",
    "\n",
    "# Construct the stack expression dynamically\n",
    "stack_expr = f\"stack({len(years)}, \" + \", \".join([f\"'{year}', `{year}`\" for year in years]) + \") as (year, shooting_count)\"\n",
    "\n",
    "# Unpivot the DataFrame\n",
    "unpivot_shooting_race_df = pivot_df.selectExpr(\"county\", \"race\", stack_expr)\n",
    "# unpivot_shooting_race_df = unpivot_shooting_race_df.fillna(subset=[\"shooting_count\"], value=0)\n"
   ]
  },
  {
   "cell_type": "code",
   "execution_count": 0,
   "metadata": {
    "application/vnd.databricks.v1+cell": {
     "cellMetadata": {
      "byteLimit": 2048000,
      "rowLimit": 10000
     },
     "inputWidgets": {},
     "nuid": "128bee04-b81f-4fc8-aa1e-ee2b27494282",
     "showTitle": false,
     "tableResultSettingsMap": {},
     "title": ""
    }
   },
   "outputs": [],
   "source": [
    "# Define the window specification for partitioning by state, county, and year\n",
    "window_spec = Window.partitionBy(\"county\", \"year\")\n",
    "\n",
    "# Calculate total shootings using window function\n",
    "unpivot_shooting_race_df = unpivot_shooting_race_df.withColumn(\"total_shooting_count\", sum(\"shooting_count\").over(window_spec))\n",
    "unpivot_shooting_race_df = unpivot_shooting_race_df.withColumn(\"mean_shooting\", mean(\"shooting_count\").over(window_spec))\n",
    "\n",
    "\n",
    "# Calculate the county standard deviation\n",
    "mean_window = Window.partitionBy(\"county\")\n",
    "unpivot_shooting_race_df = unpivot_shooting_race_df.withColumn(\"county_total_shooting\", round(sum(col(\"shooting_count\")).over(mean_window), 2)).withColumn(\"county_mean_shooting\", round(mean(col(\"total_shooting_count\")).over(mean_window), 2))\n",
    "\n",
    "\n",
    "# Define the window to partition by county and race\n",
    "race_mean_window = Window.partitionBy(\"county\", \"race\")\n",
    "\n",
    "# Compute the county standard deviation in a single formula\n",
    "unpivot_shooting_race_df = unpivot_shooting_race_df.withColumn(\"race_mean_shooting\", round(mean(col(\"shooting_count\")).over(race_mean_window), 2))\n",
    "\n",
    "unpivot_shooting_race_df = unpivot_shooting_race_df.withColumn(\"%shooting_race\", when(col(\"total_shooting_count\").isNotNull() & col(\"shooting_count\").isNotNull(), round((unpivot_shooting_race_df[\"shooting_count\"] / unpivot_shooting_race_df[\"total_shooting_count\"]) * 100, 2)).otherwise(lit(None)))\n",
    "\n",
    "\n",
    "# display(unpivot_shooting_race_df)\n"
   ]
  },
  {
   "cell_type": "code",
   "execution_count": 0,
   "metadata": {
    "application/vnd.databricks.v1+cell": {
     "cellMetadata": {
      "byteLimit": 2048000,
      "rowLimit": 10000
     },
     "inputWidgets": {},
     "nuid": "34765dbe-68d9-4c20-8db3-676a918444e6",
     "showTitle": false,
     "tableResultSettingsMap": {},
     "title": ""
    }
   },
   "outputs": [],
   "source": [
    "\n",
    "# Define the window partition\n",
    "window_race = Window.partitionBy(\"county\", \"year\").orderBy(col(\"%shooting_race\").desc_nulls_last())\n",
    "\n",
    "# Apply dense_rank while ensuring NULLs are not ranked\n",
    "shooting_per_races_df = (\n",
    "    unpivot_shooting_race_df\n",
    "    .withColumn(\"race_shooting_rank\", \n",
    "                when(col(\"%shooting_race\").isNotNull(), dense_rank().over(window_race)))\n",
    ")"
   ]
  },
  {
   "cell_type": "code",
   "execution_count": 0,
   "metadata": {
    "application/vnd.databricks.v1+cell": {
     "cellMetadata": {
      "byteLimit": 2048000,
      "rowLimit": 10000
     },
     "inputWidgets": {},
     "nuid": "d8a4b820-3985-4946-9ba8-6e88b8f7892a",
     "showTitle": false,
     "tableResultSettingsMap": {},
     "title": ""
    }
   },
   "outputs": [
    {
     "output_type": "display_data",
     "data": {
      "text/html": [
       "<style scoped>\n",
       "  .table-result-container {\n",
       "    max-height: 300px;\n",
       "    overflow: auto;\n",
       "  }\n",
       "  table, th, td {\n",
       "    border: 1px solid black;\n",
       "    border-collapse: collapse;\n",
       "  }\n",
       "  th, td {\n",
       "    padding: 5px;\n",
       "  }\n",
       "  th {\n",
       "    text-align: left;\n",
       "  }\n",
       "</style><div class='table-result-container'><table class='table-result'><thead style='background-color: white'><tr><th>county</th><th>year</th><th>race</th><th>shooting_count</th><th>total_shooting_count</th><th>%shooting_race</th><th>mean_shooting</th><th>county_mean_shooting</th><th>race_mean_shooting</th></tr></thead><tbody><tr><td>Cook</td><td>2015</td><td>B</td><td>9</td><td>11</td><td>81.82</td><td>3.6666666666666665</td><td>8.5</td><td>6.2</td></tr><tr><td>Cook</td><td>2016</td><td>B</td><td>12</td><td>15</td><td>80.0</td><td>5.0</td><td>8.5</td><td>6.2</td></tr><tr><td>Cook</td><td>2017</td><td>B</td><td>5</td><td>10</td><td>50.0</td><td>3.3333333333333335</td><td>8.5</td><td>6.2</td></tr><tr><td>Cook</td><td>2018</td><td>B</td><td>6</td><td>6</td><td>100.0</td><td>6.0</td><td>8.5</td><td>6.2</td></tr><tr><td>Cook</td><td>2019</td><td>B</td><td>5</td><td>6</td><td>83.33</td><td>3.0</td><td>8.5</td><td>6.2</td></tr><tr><td>Cook</td><td>2020</td><td>B</td><td>5</td><td>8</td><td>62.5</td><td>4.0</td><td>8.5</td><td>6.2</td></tr><tr><td>Cook</td><td>2021</td><td>B</td><td>10</td><td>13</td><td>76.92</td><td>4.333333333333333</td><td>8.5</td><td>6.2</td></tr><tr><td>Cook</td><td>2022</td><td>B</td><td>4</td><td>4</td><td>100.0</td><td>4.0</td><td>8.5</td><td>6.2</td></tr><tr><td>Cook</td><td>2023</td><td>B</td><td>4</td><td>8</td><td>50.0</td><td>2.0</td><td>8.5</td><td>6.2</td></tr><tr><td>Cook</td><td>2024</td><td>B</td><td>2</td><td>4</td><td>50.0</td><td>1.3333333333333333</td><td>8.5</td><td>6.2</td></tr><tr><td>Cook</td><td>2015</td><td>H</td><td>1</td><td>11</td><td>9.09</td><td>3.6666666666666665</td><td>8.5</td><td>1.86</td></tr><tr><td>Cook</td><td>2016</td><td>H</td><td>1</td><td>15</td><td>6.67</td><td>5.0</td><td>8.5</td><td>1.86</td></tr><tr><td>Cook</td><td>2017</td><td>H</td><td>4</td><td>10</td><td>40.0</td><td>3.3333333333333335</td><td>8.5</td><td>1.86</td></tr><tr><td>Cook</td><td>2018</td><td>H</td><td>null</td><td>6</td><td>null</td><td>6.0</td><td>8.5</td><td>1.86</td></tr><tr><td>Cook</td><td>2019</td><td>H</td><td>null</td><td>6</td><td>null</td><td>3.0</td><td>8.5</td><td>1.86</td></tr><tr><td>Cook</td><td>2020</td><td>H</td><td>3</td><td>8</td><td>37.5</td><td>4.0</td><td>8.5</td><td>1.86</td></tr><tr><td>Cook</td><td>2021</td><td>H</td><td>2</td><td>13</td><td>15.38</td><td>4.333333333333333</td><td>8.5</td><td>1.86</td></tr><tr><td>Cook</td><td>2022</td><td>H</td><td>null</td><td>4</td><td>null</td><td>4.0</td><td>8.5</td><td>1.86</td></tr><tr><td>Cook</td><td>2023</td><td>H</td><td>1</td><td>8</td><td>12.5</td><td>2.0</td><td>8.5</td><td>1.86</td></tr><tr><td>Cook</td><td>2024</td><td>H</td><td>1</td><td>4</td><td>25.0</td><td>1.3333333333333333</td><td>8.5</td><td>1.86</td></tr><tr><td>Cook</td><td>2015</td><td>NA</td><td>null</td><td>11</td><td>null</td><td>3.6666666666666665</td><td>8.5</td><td>1.0</td></tr><tr><td>Cook</td><td>2016</td><td>NA</td><td>null</td><td>15</td><td>null</td><td>5.0</td><td>8.5</td><td>1.0</td></tr><tr><td>Cook</td><td>2017</td><td>NA</td><td>null</td><td>10</td><td>null</td><td>3.3333333333333335</td><td>8.5</td><td>1.0</td></tr><tr><td>Cook</td><td>2018</td><td>NA</td><td>null</td><td>6</td><td>null</td><td>6.0</td><td>8.5</td><td>1.0</td></tr><tr><td>Cook</td><td>2019</td><td>NA</td><td>null</td><td>6</td><td>null</td><td>3.0</td><td>8.5</td><td>1.0</td></tr><tr><td>Cook</td><td>2020</td><td>NA</td><td>null</td><td>8</td><td>null</td><td>4.0</td><td>8.5</td><td>1.0</td></tr><tr><td>Cook</td><td>2021</td><td>NA</td><td>1</td><td>13</td><td>7.69</td><td>4.333333333333333</td><td>8.5</td><td>1.0</td></tr><tr><td>Cook</td><td>2022</td><td>NA</td><td>null</td><td>4</td><td>null</td><td>4.0</td><td>8.5</td><td>1.0</td></tr><tr><td>Cook</td><td>2023</td><td>NA</td><td>1</td><td>8</td><td>12.5</td><td>2.0</td><td>8.5</td><td>1.0</td></tr><tr><td>Cook</td><td>2024</td><td>NA</td><td>1</td><td>4</td><td>25.0</td><td>1.3333333333333333</td><td>8.5</td><td>1.0</td></tr><tr><td>Cook</td><td>2015</td><td>W</td><td>1</td><td>11</td><td>9.09</td><td>3.6666666666666665</td><td>8.5</td><td>1.4</td></tr><tr><td>Cook</td><td>2016</td><td>W</td><td>2</td><td>15</td><td>13.33</td><td>5.0</td><td>8.5</td><td>1.4</td></tr><tr><td>Cook</td><td>2017</td><td>W</td><td>1</td><td>10</td><td>10.0</td><td>3.3333333333333335</td><td>8.5</td><td>1.4</td></tr><tr><td>Cook</td><td>2018</td><td>W</td><td>null</td><td>6</td><td>null</td><td>6.0</td><td>8.5</td><td>1.4</td></tr><tr><td>Cook</td><td>2019</td><td>W</td><td>1</td><td>6</td><td>16.67</td><td>3.0</td><td>8.5</td><td>1.4</td></tr><tr><td>Cook</td><td>2020</td><td>W</td><td>null</td><td>8</td><td>null</td><td>4.0</td><td>8.5</td><td>1.4</td></tr><tr><td>Cook</td><td>2021</td><td>W</td><td>null</td><td>13</td><td>null</td><td>4.333333333333333</td><td>8.5</td><td>1.4</td></tr><tr><td>Cook</td><td>2022</td><td>W</td><td>null</td><td>4</td><td>null</td><td>4.0</td><td>8.5</td><td>1.4</td></tr><tr><td>Cook</td><td>2023</td><td>W</td><td>2</td><td>8</td><td>25.0</td><td>2.0</td><td>8.5</td><td>1.4</td></tr><tr><td>Cook</td><td>2024</td><td>W</td><td>null</td><td>4</td><td>null</td><td>1.3333333333333333</td><td>8.5</td><td>1.4</td></tr></tbody></table></div>"
      ]
     },
     "metadata": {
      "application/vnd.databricks.v1+output": {
       "addedWidgets": {},
       "aggData": [],
       "aggError": "",
       "aggOverflow": false,
       "aggSchema": [],
       "aggSeriesLimitReached": false,
       "aggType": "",
       "arguments": {},
       "columnCustomDisplayInfos": {},
       "data": [
        [
         "Cook",
         "2015",
         "B",
         9,
         11,
         81.82,
         3.6666666666666665,
         8.5,
         6.2
        ],
        [
         "Cook",
         "2016",
         "B",
         12,
         15,
         80.0,
         5.0,
         8.5,
         6.2
        ],
        [
         "Cook",
         "2017",
         "B",
         5,
         10,
         50.0,
         3.3333333333333335,
         8.5,
         6.2
        ],
        [
         "Cook",
         "2018",
         "B",
         6,
         6,
         100.0,
         6.0,
         8.5,
         6.2
        ],
        [
         "Cook",
         "2019",
         "B",
         5,
         6,
         83.33,
         3.0,
         8.5,
         6.2
        ],
        [
         "Cook",
         "2020",
         "B",
         5,
         8,
         62.5,
         4.0,
         8.5,
         6.2
        ],
        [
         "Cook",
         "2021",
         "B",
         10,
         13,
         76.92,
         4.333333333333333,
         8.5,
         6.2
        ],
        [
         "Cook",
         "2022",
         "B",
         4,
         4,
         100.0,
         4.0,
         8.5,
         6.2
        ],
        [
         "Cook",
         "2023",
         "B",
         4,
         8,
         50.0,
         2.0,
         8.5,
         6.2
        ],
        [
         "Cook",
         "2024",
         "B",
         2,
         4,
         50.0,
         1.3333333333333333,
         8.5,
         6.2
        ],
        [
         "Cook",
         "2015",
         "H",
         1,
         11,
         9.09,
         3.6666666666666665,
         8.5,
         1.86
        ],
        [
         "Cook",
         "2016",
         "H",
         1,
         15,
         6.67,
         5.0,
         8.5,
         1.86
        ],
        [
         "Cook",
         "2017",
         "H",
         4,
         10,
         40.0,
         3.3333333333333335,
         8.5,
         1.86
        ],
        [
         "Cook",
         "2018",
         "H",
         null,
         6,
         null,
         6.0,
         8.5,
         1.86
        ],
        [
         "Cook",
         "2019",
         "H",
         null,
         6,
         null,
         3.0,
         8.5,
         1.86
        ],
        [
         "Cook",
         "2020",
         "H",
         3,
         8,
         37.5,
         4.0,
         8.5,
         1.86
        ],
        [
         "Cook",
         "2021",
         "H",
         2,
         13,
         15.38,
         4.333333333333333,
         8.5,
         1.86
        ],
        [
         "Cook",
         "2022",
         "H",
         null,
         4,
         null,
         4.0,
         8.5,
         1.86
        ],
        [
         "Cook",
         "2023",
         "H",
         1,
         8,
         12.5,
         2.0,
         8.5,
         1.86
        ],
        [
         "Cook",
         "2024",
         "H",
         1,
         4,
         25.0,
         1.3333333333333333,
         8.5,
         1.86
        ],
        [
         "Cook",
         "2015",
         "NA",
         null,
         11,
         null,
         3.6666666666666665,
         8.5,
         1.0
        ],
        [
         "Cook",
         "2016",
         "NA",
         null,
         15,
         null,
         5.0,
         8.5,
         1.0
        ],
        [
         "Cook",
         "2017",
         "NA",
         null,
         10,
         null,
         3.3333333333333335,
         8.5,
         1.0
        ],
        [
         "Cook",
         "2018",
         "NA",
         null,
         6,
         null,
         6.0,
         8.5,
         1.0
        ],
        [
         "Cook",
         "2019",
         "NA",
         null,
         6,
         null,
         3.0,
         8.5,
         1.0
        ],
        [
         "Cook",
         "2020",
         "NA",
         null,
         8,
         null,
         4.0,
         8.5,
         1.0
        ],
        [
         "Cook",
         "2021",
         "NA",
         1,
         13,
         7.69,
         4.333333333333333,
         8.5,
         1.0
        ],
        [
         "Cook",
         "2022",
         "NA",
         null,
         4,
         null,
         4.0,
         8.5,
         1.0
        ],
        [
         "Cook",
         "2023",
         "NA",
         1,
         8,
         12.5,
         2.0,
         8.5,
         1.0
        ],
        [
         "Cook",
         "2024",
         "NA",
         1,
         4,
         25.0,
         1.3333333333333333,
         8.5,
         1.0
        ],
        [
         "Cook",
         "2015",
         "W",
         1,
         11,
         9.09,
         3.6666666666666665,
         8.5,
         1.4
        ],
        [
         "Cook",
         "2016",
         "W",
         2,
         15,
         13.33,
         5.0,
         8.5,
         1.4
        ],
        [
         "Cook",
         "2017",
         "W",
         1,
         10,
         10.0,
         3.3333333333333335,
         8.5,
         1.4
        ],
        [
         "Cook",
         "2018",
         "W",
         null,
         6,
         null,
         6.0,
         8.5,
         1.4
        ],
        [
         "Cook",
         "2019",
         "W",
         1,
         6,
         16.67,
         3.0,
         8.5,
         1.4
        ],
        [
         "Cook",
         "2020",
         "W",
         null,
         8,
         null,
         4.0,
         8.5,
         1.4
        ],
        [
         "Cook",
         "2021",
         "W",
         null,
         13,
         null,
         4.333333333333333,
         8.5,
         1.4
        ],
        [
         "Cook",
         "2022",
         "W",
         null,
         4,
         null,
         4.0,
         8.5,
         1.4
        ],
        [
         "Cook",
         "2023",
         "W",
         2,
         8,
         25.0,
         2.0,
         8.5,
         1.4
        ],
        [
         "Cook",
         "2024",
         "W",
         null,
         4,
         null,
         1.3333333333333333,
         8.5,
         1.4
        ]
       ],
       "datasetInfos": [],
       "dbfsResultPath": null,
       "isJsonSchema": true,
       "metadata": {},
       "overflow": false,
       "plotOptions": {
        "customPlotOptions": {},
        "displayType": "table",
        "pivotAggregation": null,
        "pivotColumns": null,
        "xColumns": null,
        "yColumns": null
       },
       "removedWidgets": [],
       "schema": [
        {
         "metadata": "{}",
         "name": "county",
         "type": "\"string\""
        },
        {
         "metadata": "{}",
         "name": "year",
         "type": "\"string\""
        },
        {
         "metadata": "{}",
         "name": "race",
         "type": "\"string\""
        },
        {
         "metadata": "{}",
         "name": "shooting_count",
         "type": "\"long\""
        },
        {
         "metadata": "{}",
         "name": "total_shooting_count",
         "type": "\"long\""
        },
        {
         "metadata": "{}",
         "name": "%shooting_race",
         "type": "\"double\""
        },
        {
         "metadata": "{}",
         "name": "mean_shooting",
         "type": "\"double\""
        },
        {
         "metadata": "{}",
         "name": "county_mean_shooting",
         "type": "\"double\""
        },
        {
         "metadata": "{}",
         "name": "race_mean_shooting",
         "type": "\"double\""
        }
       ],
       "type": "table"
      }
     },
     "output_type": "display_data"
    }
   ],
   "source": [
    "\n",
    "\n",
    "display(shooting_per_races_df.filter(col(\"county\") == \"Cook\").select(\"county\", \"year\", \"race\", \"shooting_count\", \"total_shooting_count\", \"%shooting_race\", \"mean_shooting\", \"county_mean_shooting\", \"race_mean_shooting\").orderBy(\"county\", \"race\", \"year\"))\n"
   ]
  },
  {
   "cell_type": "code",
   "execution_count": 0,
   "metadata": {
    "application/vnd.databricks.v1+cell": {
     "cellMetadata": {
      "byteLimit": 2048000,
      "rowLimit": 10000
     },
     "inputWidgets": {},
     "nuid": "de867fb8-2e9e-4c93-b8d1-df12adee4b18",
     "showTitle": false,
     "tableResultSettingsMap": {},
     "title": ""
    }
   },
   "outputs": [],
   "source": [
    "shooting_per_races_df.write.format(\"delta\").mode(\"overwrite\").option(\"overwriteSchema\", \"true\").saveAsTable(\"default.percentage_shooting_race_per_county_by_year\")"
   ]
  },
  {
   "cell_type": "code",
   "execution_count": 0,
   "metadata": {
    "application/vnd.databricks.v1+cell": {
     "cellMetadata": {
      "byteLimit": 2048000,
      "rowLimit": 10000
     },
     "inputWidgets": {},
     "nuid": "e6c961a7-d106-4281-8749-22d584f8e8ae",
     "showTitle": false,
     "tableResultSettingsMap": {},
     "title": ""
    }
   },
   "outputs": [],
   "source": []
  }
 ],
 "metadata": {
  "application/vnd.databricks.v1+notebook": {
   "computePreferences": null,
   "dashboards": [],
   "environmentMetadata": {
    "base_environment": "",
    "environment_version": "2"
   },
   "language": "python",
   "notebookMetadata": {
    "pythonIndentUnit": 4
   },
   "notebookName": "Merge All Imputed Data",
   "widgets": {}
  },
  "language_info": {
   "name": "python"
  }
 },
 "nbformat": 4,
 "nbformat_minor": 0
}