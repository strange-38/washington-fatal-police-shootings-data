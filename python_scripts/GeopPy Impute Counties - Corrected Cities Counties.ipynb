{
 "cells": [
  {
   "cell_type": "markdown",
   "metadata": {
    "application/vnd.databricks.v1+cell": {
     "cellMetadata": {},
     "inputWidgets": {},
     "nuid": "1cfb0f42-90b1-4bfd-8ef1-ce601d2c665c",
     "showTitle": false,
     "tableResultSettingsMap": {},
     "title": ""
    }
   },
   "source": [
    "### Intsall Geopy Library"
   ]
  },
  {
   "cell_type": "code",
   "execution_count": 0,
   "metadata": {
    "application/vnd.databricks.v1+cell": {
     "cellMetadata": {
      "byteLimit": 2048000,
      "rowLimit": 10000
     },
     "inputWidgets": {},
     "nuid": "de01001f-c71c-4672-8d33-2b95db568b9d",
     "showTitle": false,
     "tableResultSettingsMap": {},
     "title": ""
    }
   },
   "outputs": [
    {
     "output_type": "stream",
     "name": "stdout",
     "output_type": "stream",
     "text": [
      "Collecting geopy\n  Obtaining dependency information for geopy from https://files.pythonhosted.org/packages/e5/15/cf2a69ade4b194aa524ac75112d5caac37414b20a3a03e6865dfe0bd1539/geopy-2.4.1-py3-none-any.whl.metadata\n  Downloading geopy-2.4.1-py3-none-any.whl.metadata (6.8 kB)\nCollecting geographiclib<3,>=1.52 (from geopy)\n  Obtaining dependency information for geographiclib<3,>=1.52 from https://files.pythonhosted.org/packages/9f/5a/a26132406f1f40cf51ea349a5f11b0a46cec02a2031ff82e391c2537247a/geographiclib-2.0-py3-none-any.whl.metadata\n  Downloading geographiclib-2.0-py3-none-any.whl.metadata (1.4 kB)\nDownloading geopy-2.4.1-py3-none-any.whl (125 kB)\n\u001B[?25l   \u001B[90m━━━━━━━━━━━━━━━━━━━━━━━━━━━━━━━━━━━━━━━━\u001B[0m \u001B[32m0.0/125.4 kB\u001B[0m \u001B[31m?\u001B[0m eta \u001B[36m-:--:--\u001B[0m\n\u001B[2K   \u001B[90m━━━━━━━━━━━━━━━━━━━━━━━━━━━━━━━━━━━━━━━━\u001B[0m \u001B[32m125.4/125.4 kB\u001B[0m \u001B[31m5.9 MB/s\u001B[0m eta \u001B[36m0:00:00\u001B[0m\n\u001B[?25hDownloading geographiclib-2.0-py3-none-any.whl (40 kB)\n\u001B[?25l   \u001B[90m━━━━━━━━━━━━━━━━━━━━━━━━━━━━━━━━━━━━━━━━\u001B[0m \u001B[32m0.0/40.3 kB\u001B[0m \u001B[31m?\u001B[0m eta \u001B[36m-:--:--\u001B[0m\n\u001B[2K   \u001B[90m━━━━━━━━━━━━━━━━━━━━━━━━━━━━━━━━━━━━━━━━\u001B[0m \u001B[32m40.3/40.3 kB\u001B[0m \u001B[31m6.3 MB/s\u001B[0m eta \u001B[36m0:00:00\u001B[0m\n\u001B[?25hInstalling collected packages: geographiclib, geopy\nSuccessfully installed geographiclib-2.0 geopy-2.4.1\n\u001B[43mNote: you may need to restart the kernel using %restart_python or dbutils.library.restartPython() to use updated packages.\u001B[0m\n"
     ]
    }
   ],
   "source": [
    "!pip install geopy"
   ]
  },
  {
   "cell_type": "code",
   "execution_count": 0,
   "metadata": {
    "application/vnd.databricks.v1+cell": {
     "cellMetadata": {
      "byteLimit": 2048000,
      "rowLimit": 10000
     },
     "inputWidgets": {},
     "nuid": "b3e16965-f417-42cf-8375-e42c6ade66e3",
     "showTitle": false,
     "tableResultSettingsMap": {},
     "title": ""
    }
   },
   "outputs": [],
   "source": [
    "dbutils.library.restartPython()"
   ]
  },
  {
   "cell_type": "markdown",
   "metadata": {
    "application/vnd.databricks.v1+cell": {
     "cellMetadata": {},
     "inputWidgets": {},
     "nuid": "8126d46a-11bb-45d9-888a-c1ebb25d9218",
     "showTitle": false,
     "tableResultSettingsMap": {},
     "title": ""
    }
   },
   "source": [
    "### Method to get county by state, city combination"
   ]
  },
  {
   "cell_type": "code",
   "execution_count": 0,
   "metadata": {
    "application/vnd.databricks.v1+cell": {
     "cellMetadata": {
      "byteLimit": 2048000,
      "rowLimit": 10000
     },
     "inputWidgets": {},
     "nuid": "2a6f9224-762e-4555-b152-46f6764b7971",
     "showTitle": false,
     "tableResultSettingsMap": {},
     "title": ""
    }
   },
   "outputs": [],
   "source": [
    "from geopy.exc import GeocoderTimedOut\n",
    "from geopy.geocoders import Nominatim\n",
    "from geopy.extra.rate_limiter import RateLimiter\n",
    "from pyspark.sql.functions import udf, pandas_udf\n",
    "from pyspark.sql.types import StringType\n",
    "from pyspark.sql.functions import udf, pandas_udf, col, trim, regexp_replace\n",
    "import pandas as pd\n",
    "import time\n",
    "\n",
    "def get_county_by_lati_longi(latitude, longitude):    \n",
    "    geolocator = Nominatim(user_agent=\"shooting_data_geocoding\", timeout=10)\n",
    "    geocode = RateLimiter(geolocator.reverse, min_delay_seconds=1)  # Delay of 1 second per request\n",
    "\n",
    "    try:\n",
    "        location = geocode((latitude, longitude))\n",
    "        if location:\n",
    "            address = location.raw['address']\n",
    "            if 'county' in address:\n",
    "                county = address['county'].replace(\"County\", \"\")\n",
    "                return county\n",
    "            elif 'state_district' in address:\n",
    "                return address['state_district']\n",
    "        return None\n",
    "    except GeocoderTimedOut:\n",
    "        print(f\"Timeout for coordinates: {latitude}, {longitude}\")\n",
    "        return None\n",
    "    except Exception as e:\n",
    "        print(f\"Error geocoding {latitude}, {longitude}: {e}\")\n",
    "        return None\n",
    "\n",
    "\n",
    "def get_county_by_city_state(city, state):\n",
    "    geolocator = Nominatim(user_agent=\"shooting_data_geocoding\", timeout=10)\n",
    "    geocode = RateLimiter(geolocator.geocode, min_delay_seconds=1)  # Delay of 1 second per request\n",
    "    reverse = RateLimiter(geolocator.reverse, min_delay_seconds=1)  # For reverse geocoding\n",
    "\n",
    "    # First, get the coordinates of the location\n",
    "    location = geocode(f\"{city}, {state}, United States\")\n",
    "    if location:\n",
    "        print(f\"Coordinates for {city}, {state}: {location.latitude}, {location.longitude}\")\n",
    "        # Perform reverse geocoding using coordinates\n",
    "        reverse_location = reverse((location.latitude, location.longitude))\n",
    "        if reverse_location:\n",
    "            address = reverse_location.raw.get('address', {})\n",
    "            county = address.get('county') or address.get('city')\n",
    "            return county\n",
    "        else:\n",
    "            return None\n",
    "    else:\n",
    "        return None\n",
    "\n",
    "@pandas_udf(StringType())\n",
    "def get_county_by_lati_longi_udf(latitude_series, longitude_series):\n",
    "    return latitude_series.combine(longitude_series, get_county_by_lati_longi)\n",
    "\n",
    "\n",
    "@pandas_udf(StringType())\n",
    "def get_county_by_city_state_udf(city_series, state_series):\n",
    "    return city_series.combine(state_series, get_county_by_city_state)\n",
    "\n"
   ]
  },
  {
   "cell_type": "markdown",
   "metadata": {
    "application/vnd.databricks.v1+cell": {
     "cellMetadata": {},
     "inputWidgets": {},
     "nuid": "781fb1a0-db54-4cce-aceb-7af65c5daebb",
     "showTitle": false,
     "tableResultSettingsMap": {},
     "title": ""
    }
   },
   "source": [
    "### Deafult Missing Counties"
   ]
  },
  {
   "cell_type": "code",
   "execution_count": 0,
   "metadata": {
    "application/vnd.databricks.v1+cell": {
     "cellMetadata": {},
     "inputWidgets": {},
     "nuid": "67323320-524f-426b-a16a-c3bf509d4497",
     "showTitle": false,
     "tableResultSettingsMap": {},
     "title": ""
    }
   },
   "outputs": [],
   "source": [
    "from pyspark.sql.functions import to_date, col, trim, regexp_replace, count, sum, round, rank, initcap, split, collect_list\n",
    "from pyspark.sql.functions import col, when, to_date, split, length\n",
    "from pyspark.sql.functions import col, lpad, concat_ws, split, to_date\n",
    "from pyspark.sql.window import Window\n"
   ]
  },
  {
   "cell_type": "code",
   "execution_count": 0,
   "metadata": {
    "application/vnd.databricks.v1+cell": {
     "cellMetadata": {},
     "inputWidgets": {},
     "nuid": "f5c650fc-f580-4fb8-a9ba-ba26094e3b2d",
     "showTitle": false,
     "tableResultSettingsMap": {},
     "title": ""
    }
   },
   "outputs": [],
   "source": [
    "raw_police_shooting_df = spark.table(\"fatal_police_shootings_data_csv\")\n",
    "raw_police_shooting_df = raw_police_shooting_df.withColumn(\"year\", split(col(\"date\"), \"/\")[2])\n",
    "raw_police_shooting_df = raw_police_shooting_df.filter(col(\"year\").isNotNull())\n",
    "\n",
    "# Assuming imputed_police_shooting_df is your DataFrame\n",
    "display(raw_police_shooting_df)\n"
   ]
  },
  {
   "cell_type": "code",
   "execution_count": 0,
   "metadata": {
    "application/vnd.databricks.v1+cell": {
     "cellMetadata": {},
     "inputWidgets": {},
     "nuid": "5e3121c2-c3dd-42d8-8d34-358668922dcd",
     "showTitle": false,
     "tableResultSettingsMap": {},
     "title": ""
    }
   },
   "outputs": [],
   "source": [
    "police_shooting_df = raw_police_shooting_df.withColumn(\"id\", raw_police_shooting_df[\"id\"].cast(\"integer\"))\n",
    "police_shooting_df = police_shooting_df.withColumn(\"age\", police_shooting_df[\"age\"].cast(\"integer\"))\n",
    "police_shooting_df = raw_police_shooting_df.withColumn(\"year\", raw_police_shooting_df[\"year\"].cast(\"integer\"))\n",
    "police_shooting_df = police_shooting_df.withColumn(\"longitude\", police_shooting_df[\"longitude\"].cast(\"float\"))\n",
    "police_shooting_df = police_shooting_df.withColumn(\"latitude\", police_shooting_df[\"latitude\"].cast(\"float\"))\n",
    "\n",
    "display(police_shooting_df)\n"
   ]
  },
  {
   "cell_type": "code",
   "execution_count": 0,
   "metadata": {
    "application/vnd.databricks.v1+cell": {
     "cellMetadata": {},
     "inputWidgets": {},
     "nuid": "3b47d4d8-984d-4838-a38a-43e55f9aabee",
     "showTitle": false,
     "tableResultSettingsMap": {},
     "title": ""
    }
   },
   "outputs": [],
   "source": [
    "missed_county_df = police_shooting_df.filter(police_shooting_df[\"county\"].isNull())\n",
    "filled_county_df = police_shooting_df.filter(police_shooting_df[\"county\"].isNotNull())\n"
   ]
  },
  {
   "cell_type": "code",
   "execution_count": 0,
   "metadata": {
    "application/vnd.databricks.v1+cell": {
     "cellMetadata": {},
     "inputWidgets": {},
     "nuid": "c17dd0e4-442c-42b0-a80f-d8f5a6eb22c2",
     "showTitle": false,
     "tableResultSettingsMap": {},
     "title": ""
    }
   },
   "outputs": [],
   "source": [
    "\n",
    "\n",
    "# Apply the UDF to populate a new 'county' column using latitude and longitude\n",
    "# filled_county_by_city_state_df = police_shooting_missing_county_data.withColumn(\"county\", get_county_by_city_state_udf(col(\"city\"), col(\"state\")))\n",
    "# filled_county_by_city_state_df = filled_county_by_city_state_df.withColumn(\"county\", trim(regexp_replace(col(\"county\"), \"County\", \"\")))\n",
    "# filled_county_by_city_state_df.write.format(\"delta\").mode(\"overwrite\").option(\"mergeSchema\", \"true\").saveAsTable(\"default.filled_county_by_city_state_df_default_data\")\n"
   ]
  },
  {
   "cell_type": "code",
   "execution_count": 0,
   "metadata": {
    "application/vnd.databricks.v1+cell": {
     "cellMetadata": {},
     "inputWidgets": {},
     "nuid": "335333e9-3b6a-4f55-b657-a6b0b0f699be",
     "showTitle": false,
     "tableResultSettingsMap": {},
     "title": ""
    }
   },
   "outputs": [],
   "source": [
    "filled_county_df.write.format(\"delta\").mode(\"overwrite\").option(\"overwriteSchema\", \"true\").saveAsTable(\"default.police_shooting_data_filled_county_default_data\")\n",
    "missed_county_df.write.format(\"delta\").mode(\"overwrite\").option(\"overwriteSchema\", \"true\").saveAsTable(\"default.police_shooting_missing_county_default_data\")\n"
   ]
  },
  {
   "cell_type": "code",
   "execution_count": 0,
   "metadata": {
    "application/vnd.databricks.v1+cell": {
     "cellMetadata": {
      "byteLimit": 2048000,
      "rowLimit": 10000
     },
     "inputWidgets": {},
     "nuid": "88a0ba0d-0bb8-4d76-baae-579bbaaa00cc",
     "showTitle": false,
     "tableResultSettingsMap": {},
     "title": ""
    }
   },
   "outputs": [],
   "source": [
    "\n",
    "police_shooting_missing_county_data = spark.table(\"default.police_shooting_missing_county_default_data\")\n",
    "\n",
    "# Apply the UDF to populate a new 'county' column using latitude and longitude\n",
    "filled_county_by_city_state_df = police_shooting_missing_county_data.withColumn(\"county\", get_county_by_city_state_udf(col(\"city\"), col(\"state\")))\n",
    "filled_county_by_city_state_df = filled_county_by_city_state_df.withColumn(\"county\", trim(regexp_replace(col(\"county\"), \"County\", \"\")))\n",
    "filled_county_by_city_state_df.write.format(\"delta\").mode(\"overwrite\").option(\"mergeSchema\", \"true\").saveAsTable(\"default.filled_county_by_city_state_df_default_data\")\n",
    "\n"
   ]
  },
  {
   "cell_type": "code",
   "execution_count": 0,
   "metadata": {
    "application/vnd.databricks.v1+cell": {
     "cellMetadata": {
      "byteLimit": 2048000,
      "rowLimit": 10000
     },
     "inputWidgets": {},
     "nuid": "bb730e15-978b-435f-a688-cbd5bd3d63ed",
     "showTitle": false,
     "tableResultSettingsMap": {},
     "title": ""
    }
   },
   "outputs": [],
   "source": [
    "filled_by_city_sate_df = spark.table(\"default.filled_county_by_city_state_df_default_data\")\n",
    "missing_county_by_city_state_df = filled_by_city_sate_df.filter(col(\"county\").isNull())\n",
    "filled_county_by_city_state_df = filled_by_city_sate_df.filter(col(\"county\").isNotNull())\n"
   ]
  },
  {
   "cell_type": "code",
   "execution_count": 0,
   "metadata": {
    "application/vnd.databricks.v1+cell": {
     "cellMetadata": {
      "byteLimit": 2048000,
      "rowLimit": 10000
     },
     "inputWidgets": {},
     "nuid": "2519c329-74f1-49f6-a8e9-351e18bf8678",
     "showTitle": false,
     "tableResultSettingsMap": {},
     "title": ""
    }
   },
   "outputs": [],
   "source": [
    "filled_county_by_city_state_df.write.format(\"delta\").mode(\"overwrite\").option(\"mergeSchema\", \"true\").saveAsTable(\"default.all_filled_county_by_city_state_df_default_data\")"
   ]
  },
  {
   "cell_type": "code",
   "execution_count": 0,
   "metadata": {
    "application/vnd.databricks.v1+cell": {
     "cellMetadata": {
      "byteLimit": 2048000,
      "rowLimit": 10000
     },
     "inputWidgets": {},
     "nuid": "23b6c10e-ea49-4c66-b0ef-2f2c8e2d305d",
     "showTitle": false,
     "tableResultSettingsMap": {},
     "title": ""
    }
   },
   "outputs": [
    {
     "output_type": "execute_result",
     "data": {
      "text/plain": [
       "4692"
      ]
     },
     "execution_count": 6,
     "metadata": {},
     "output_type": "execute_result"
    }
   ],
   "source": [
    "police_shooting_missing_county_data.count()"
   ]
  },
  {
   "cell_type": "code",
   "execution_count": 0,
   "metadata": {
    "application/vnd.databricks.v1+cell": {
     "cellMetadata": {
      "byteLimit": 2048000,
      "rowLimit": 10000
     },
     "inputWidgets": {},
     "nuid": "39eae057-a7bf-4203-b7f6-cf1bc9d00d38",
     "showTitle": false,
     "tableResultSettingsMap": {},
     "title": ""
    }
   },
   "outputs": [
    {
     "output_type": "execute_result",
     "data": {
      "text/plain": [
       "4677"
      ]
     },
     "execution_count": 17,
     "metadata": {},
     "output_type": "execute_result"
    }
   ],
   "source": [
    "filled_county_by_city_state_df.count()"
   ]
  },
  {
   "cell_type": "code",
   "execution_count": 0,
   "metadata": {
    "application/vnd.databricks.v1+cell": {
     "cellMetadata": {
      "byteLimit": 2048000,
      "rowLimit": 10000
     },
     "inputWidgets": {},
     "nuid": "679526d3-6f80-4ac3-b468-e011731ecde1",
     "showTitle": false,
     "tableResultSettingsMap": {},
     "title": ""
    }
   },
   "outputs": [
    {
     "output_type": "execute_result",
     "data": {
      "text/plain": [
       "15"
      ]
     },
     "execution_count": 8,
     "metadata": {},
     "output_type": "execute_result"
    }
   ],
   "source": [
    "missing_county_by_city_state_df.count()\n"
   ]
  },
  {
   "cell_type": "code",
   "execution_count": 0,
   "metadata": {
    "application/vnd.databricks.v1+cell": {
     "cellMetadata": {
      "byteLimit": 2048000,
      "rowLimit": 10000
     },
     "inputWidgets": {},
     "nuid": "9ec8c842-79a5-4a97-a217-5bbb0a9c7f87",
     "showTitle": false,
     "tableResultSettingsMap": {},
     "title": ""
    }
   },
   "outputs": [
    {
     "output_type": "display_data",
     "data": {
      "text/html": [
       "<style scoped>\n",
       "  .table-result-container {\n",
       "    max-height: 300px;\n",
       "    overflow: auto;\n",
       "  }\n",
       "  table, th, td {\n",
       "    border: 1px solid black;\n",
       "    border-collapse: collapse;\n",
       "  }\n",
       "  th, td {\n",
       "    padding: 5px;\n",
       "  }\n",
       "  th {\n",
       "    text-align: left;\n",
       "  }\n",
       "</style><div class='table-result-container'><table class='table-result'><thead style='background-color: white'><tr><th>id</th><th>date</th><th>threat_type</th><th>flee_status</th><th>armed_with</th><th>city</th><th>county</th><th>state</th><th>latitude</th><th>longitude</th><th>location_precision</th><th>name</th><th>age</th><th>gender</th><th>race</th><th>race_source</th><th>was_mental_illness_related</th><th>body_camera</th><th>agency_ids</th><th>year</th></tr></thead><tbody><tr><td>3956</td><td>12/8/2018</td><td>shoot</td><td>car</td><td>gun</td><td>Waynesboro</td><td>null</td><td>VA</td><td>38.06847</td><td>-78.889465</td><td>not_available</td><td>Anthony Makai Hutchinson</td><td>40</td><td>male</td><td>B</td><td>not_available</td><td>FALSE</td><td>FALSE</td><td>3547</td><td>2018</td></tr><tr><td>4153</td><td>4/10/2018</td><td>point</td><td>not</td><td>gun</td><td>Scarbo</td><td>null</td><td>WV</td><td>37.979633</td><td>-81.27061</td><td>not_available</td><td>William Cox</td><td>45</td><td>male</td><td>null</td><td>null</td><td>FALSE</td><td>FALSE</td><td>360</td><td>2018</td></tr><tr><td>5410</td><td>6/2/2019</td><td>attack</td><td>not</td><td>knife</td><td>Joilet</td><td>null</td><td>IL</td><td>41.51732</td><td>-88.08554</td><td>not_available</td><td>Bruce Carter Jr.</td><td>38</td><td>male</td><td>B</td><td>not_available</td><td>FALSE</td><td>FALSE</td><td>244</td><td>2019</td></tr><tr><td>4469</td><td>18/2/2019</td><td>shoot</td><td>not</td><td>gun</td><td>Pelehatchie</td><td>null</td><td>MS</td><td>32.32031</td><td>-89.7889</td><td>not_available</td><td>Pierre Woods</td><td>31</td><td>male</td><td>B</td><td>not_available</td><td>TRUE</td><td>FALSE</td><td>2401</td><td>2019</td></tr><tr><td>4777</td><td>11/6/2019</td><td>attack</td><td>not</td><td>knife</td><td>Porteau</td><td>null</td><td>OK</td><td>35.077915</td><td>-94.628914</td><td>not_available</td><td>Jaquan Derrick Diijon Thompson</td><td>27</td><td>male</td><td>B</td><td>not_available</td><td>FALSE</td><td>FALSE</td><td>2496;2497</td><td>2019</td></tr><tr><td>4895</td><td>28/7/2019</td><td>point</td><td>not</td><td>gun</td><td>Boyton Beach</td><td>null</td><td>FL</td><td>26.548351</td><td>-80.090576</td><td>not_available</td><td>Adalberto Wolmar Rodriguez</td><td>62</td><td>male</td><td>H</td><td>not_available</td><td>FALSE</td><td>FALSE</td><td>2447</td><td>2019</td></tr><tr><td>5038</td><td>16/9/2019</td><td>shoot</td><td>foot</td><td>gun</td><td>Elizabethon</td><td>null</td><td>TN</td><td>36.348473</td><td>-82.211784</td><td>not_available</td><td>Jeffrey Michael Gibble</td><td>33</td><td>male</td><td>W</td><td>not_available</td><td>FALSE</td><td>FALSE</td><td>1118</td><td>2019</td></tr><tr><td>5442</td><td>28/1/2020</td><td>point</td><td>not</td><td>gun</td><td>Tuscson</td><td>null</td><td>AZ</td><td>32.17786</td><td>-110.9984</td><td>not_available</td><td>Robert Cocio</td><td>39</td><td>male</td><td>H</td><td>not_available</td><td>FALSE</td><td>FALSE</td><td>964;397;215</td><td>2020</td></tr><tr><td>5569</td><td>28/1/2020</td><td>attack</td><td>not</td><td>vehicle</td><td>Shelby Gap</td><td>null</td><td>KY</td><td>37.232872</td><td>-82.56576</td><td>not_available</td><td>Jonathan Bentley</td><td>37</td><td>male</td><td>W</td><td>not_available</td><td>FALSE</td><td>FALSE</td><td>130</td><td>2020</td></tr><tr><td>5665</td><td>13/3/2020</td><td>move</td><td>not</td><td>knife</td><td>Mufreesboro</td><td>null</td><td>TN</td><td>35.80718</td><td>-86.31118</td><td>not_available</td><td>Christopher Mullins</td><td>null</td><td>male</td><td>W</td><td>not_available</td><td>TRUE</td><td>FALSE</td><td>2404</td><td>2020</td></tr><tr><td>5734</td><td>9/4/2020</td><td>shoot</td><td>foot</td><td>gun</td><td>Colonial Heights</td><td>null</td><td>VA</td><td>null</td><td>null</td><td>null</td><td>Zyon Romeir Wyche</td><td>19</td><td>male</td><td>B</td><td>not_available</td><td>FALSE</td><td>FALSE</td><td>2783</td><td>2020</td></tr><tr><td>6388</td><td>26/10/2020</td><td>shoot</td><td>not</td><td>gun</td><td>Citrus Heighs</td><td>null</td><td>CA</td><td>38.718567</td><td>-121.26177</td><td>not_available</td><td>Bruce Allan Shumaker</td><td>64</td><td>male</td><td>null</td><td>null</td><td>FALSE</td><td>FALSE</td><td>600</td><td>2020</td></tr><tr><td>6575</td><td>5/2/2021</td><td>shoot</td><td>not</td><td>gun</td><td>Martinsville</td><td>null</td><td>VA</td><td>36.688427</td><td>-79.85634</td><td>not_available</td><td>null</td><td>null</td><td>male</td><td>B</td><td>not_available</td><td>FALSE</td><td>TRUE</td><td>3022</td><td>2021</td></tr><tr><td>7802</td><td>14/3/2022</td><td>shoot</td><td>null</td><td>gun</td><td>Covington</td><td>null</td><td>VA</td><td>37.793716</td><td>-79.98888</td><td>not_available</td><td>Toney Stuart Poulston Jr.</td><td>42</td><td>male</td><td>W</td><td>photo</td><td>FALSE</td><td>FALSE</td><td>3379</td><td>2022</td></tr><tr><td>9236</td><td>18/5/2023</td><td>move</td><td>not</td><td>unarmed</td><td>Tohono O'odham Nation Reservation</td><td>null</td><td>AZ</td><td>null</td><td>null</td><td>null</td><td>Raymond Mattia</td><td>58</td><td>male</td><td>N</td><td>clip</td><td>FALSE</td><td>TRUE</td><td>1304</td><td>2023</td></tr></tbody></table></div>"
      ]
     },
     "metadata": {
      "application/vnd.databricks.v1+output": {
       "addedWidgets": {},
       "aggData": [],
       "aggError": "",
       "aggOverflow": false,
       "aggSchema": [],
       "aggSeriesLimitReached": false,
       "aggType": "",
       "arguments": {},
       "columnCustomDisplayInfos": {},
       "data": [
        [
         "3956",
         "12/8/2018",
         "shoot",
         "car",
         "gun",
         "Waynesboro",
         null,
         "VA",
         38.06847,
         -78.889465,
         "not_available",
         "Anthony Makai Hutchinson",
         "40",
         "male",
         "B",
         "not_available",
         "FALSE",
         "FALSE",
         "3547",
         2018
        ],
        [
         "4153",
         "4/10/2018",
         "point",
         "not",
         "gun",
         "Scarbo",
         null,
         "WV",
         37.979633,
         -81.27061,
         "not_available",
         "William Cox",
         "45",
         "male",
         null,
         null,
         "FALSE",
         "FALSE",
         "360",
         2018
        ],
        [
         "5410",
         "6/2/2019",
         "attack",
         "not",
         "knife",
         "Joilet",
         null,
         "IL",
         41.51732,
         -88.08554,
         "not_available",
         "Bruce Carter Jr.",
         "38",
         "male",
         "B",
         "not_available",
         "FALSE",
         "FALSE",
         "244",
         2019
        ],
        [
         "4469",
         "18/2/2019",
         "shoot",
         "not",
         "gun",
         "Pelehatchie",
         null,
         "MS",
         32.32031,
         -89.7889,
         "not_available",
         "Pierre Woods",
         "31",
         "male",
         "B",
         "not_available",
         "TRUE",
         "FALSE",
         "2401",
         2019
        ],
        [
         "4777",
         "11/6/2019",
         "attack",
         "not",
         "knife",
         "Porteau",
         null,
         "OK",
         35.077915,
         -94.628914,
         "not_available",
         "Jaquan Derrick Diijon Thompson",
         "27",
         "male",
         "B",
         "not_available",
         "FALSE",
         "FALSE",
         "2496;2497",
         2019
        ],
        [
         "4895",
         "28/7/2019",
         "point",
         "not",
         "gun",
         "Boyton Beach",
         null,
         "FL",
         26.548351,
         -80.090576,
         "not_available",
         "Adalberto Wolmar Rodriguez",
         "62",
         "male",
         "H",
         "not_available",
         "FALSE",
         "FALSE",
         "2447",
         2019
        ],
        [
         "5038",
         "16/9/2019",
         "shoot",
         "foot",
         "gun",
         "Elizabethon",
         null,
         "TN",
         36.348473,
         -82.211784,
         "not_available",
         "Jeffrey Michael Gibble",
         "33",
         "male",
         "W",
         "not_available",
         "FALSE",
         "FALSE",
         "1118",
         2019
        ],
        [
         "5442",
         "28/1/2020",
         "point",
         "not",
         "gun",
         "Tuscson",
         null,
         "AZ",
         32.17786,
         -110.9984,
         "not_available",
         "Robert Cocio",
         "39",
         "male",
         "H",
         "not_available",
         "FALSE",
         "FALSE",
         "964;397;215",
         2020
        ],
        [
         "5569",
         "28/1/2020",
         "attack",
         "not",
         "vehicle",
         "Shelby Gap",
         null,
         "KY",
         37.232872,
         -82.56576,
         "not_available",
         "Jonathan Bentley",
         "37",
         "male",
         "W",
         "not_available",
         "FALSE",
         "FALSE",
         "130",
         2020
        ],
        [
         "5665",
         "13/3/2020",
         "move",
         "not",
         "knife",
         "Mufreesboro",
         null,
         "TN",
         35.80718,
         -86.31118,
         "not_available",
         "Christopher Mullins",
         null,
         "male",
         "W",
         "not_available",
         "TRUE",
         "FALSE",
         "2404",
         2020
        ],
        [
         "5734",
         "9/4/2020",
         "shoot",
         "foot",
         "gun",
         "Colonial Heights",
         null,
         "VA",
         null,
         null,
         null,
         "Zyon Romeir Wyche",
         "19",
         "male",
         "B",
         "not_available",
         "FALSE",
         "FALSE",
         "2783",
         2020
        ],
        [
         "6388",
         "26/10/2020",
         "shoot",
         "not",
         "gun",
         "Citrus Heighs",
         null,
         "CA",
         38.718567,
         -121.26177,
         "not_available",
         "Bruce Allan Shumaker",
         "64",
         "male",
         null,
         null,
         "FALSE",
         "FALSE",
         "600",
         2020
        ],
        [
         "6575",
         "5/2/2021",
         "shoot",
         "not",
         "gun",
         "Martinsville",
         null,
         "VA",
         36.688427,
         -79.85634,
         "not_available",
         null,
         null,
         "male",
         "B",
         "not_available",
         "FALSE",
         "TRUE",
         "3022",
         2021
        ],
        [
         "7802",
         "14/3/2022",
         "shoot",
         null,
         "gun",
         "Covington",
         null,
         "VA",
         37.793716,
         -79.98888,
         "not_available",
         "Toney Stuart Poulston Jr.",
         "42",
         "male",
         "W",
         "photo",
         "FALSE",
         "FALSE",
         "3379",
         2022
        ],
        [
         "9236",
         "18/5/2023",
         "move",
         "not",
         "unarmed",
         "Tohono O'odham Nation Reservation",
         null,
         "AZ",
         null,
         null,
         null,
         "Raymond Mattia",
         "58",
         "male",
         "N",
         "clip",
         "FALSE",
         "TRUE",
         "1304",
         2023
        ]
       ],
       "datasetInfos": [],
       "dbfsResultPath": null,
       "isJsonSchema": true,
       "metadata": {},
       "overflow": false,
       "plotOptions": {
        "customPlotOptions": {},
        "displayType": "table",
        "pivotAggregation": null,
        "pivotColumns": null,
        "xColumns": null,
        "yColumns": null
       },
       "removedWidgets": [],
       "schema": [
        {
         "metadata": "{}",
         "name": "id",
         "type": "\"string\""
        },
        {
         "metadata": "{}",
         "name": "date",
         "type": "\"string\""
        },
        {
         "metadata": "{}",
         "name": "threat_type",
         "type": "\"string\""
        },
        {
         "metadata": "{}",
         "name": "flee_status",
         "type": "\"string\""
        },
        {
         "metadata": "{}",
         "name": "armed_with",
         "type": "\"string\""
        },
        {
         "metadata": "{}",
         "name": "city",
         "type": "\"string\""
        },
        {
         "metadata": "{}",
         "name": "county",
         "type": "\"string\""
        },
        {
         "metadata": "{}",
         "name": "state",
         "type": "\"string\""
        },
        {
         "metadata": "{}",
         "name": "latitude",
         "type": "\"float\""
        },
        {
         "metadata": "{}",
         "name": "longitude",
         "type": "\"float\""
        },
        {
         "metadata": "{}",
         "name": "location_precision",
         "type": "\"string\""
        },
        {
         "metadata": "{}",
         "name": "name",
         "type": "\"string\""
        },
        {
         "metadata": "{}",
         "name": "age",
         "type": "\"string\""
        },
        {
         "metadata": "{}",
         "name": "gender",
         "type": "\"string\""
        },
        {
         "metadata": "{}",
         "name": "race",
         "type": "\"string\""
        },
        {
         "metadata": "{}",
         "name": "race_source",
         "type": "\"string\""
        },
        {
         "metadata": "{}",
         "name": "was_mental_illness_related",
         "type": "\"string\""
        },
        {
         "metadata": "{}",
         "name": "body_camera",
         "type": "\"string\""
        },
        {
         "metadata": "{}",
         "name": "agency_ids",
         "type": "\"string\""
        },
        {
         "metadata": "{}",
         "name": "year",
         "type": "\"integer\""
        }
       ],
       "type": "table"
      }
     },
     "output_type": "display_data"
    }
   ],
   "source": [
    "display(missing_county_by_city_state_df)"
   ]
  },
  {
   "cell_type": "markdown",
   "metadata": {
    "application/vnd.databricks.v1+cell": {
     "cellMetadata": {},
     "inputWidgets": {},
     "nuid": "b33a0db1-d763-406b-8e78-ec8af264a276",
     "showTitle": false,
     "tableResultSettingsMap": {},
     "title": ""
    }
   },
   "source": [
    "### Correct City Names"
   ]
  },
  {
   "cell_type": "code",
   "execution_count": 0,
   "metadata": {
    "application/vnd.databricks.v1+cell": {
     "cellMetadata": {
      "byteLimit": 2048000,
      "rowLimit": 10000
     },
     "inputWidgets": {},
     "nuid": "411dd960-9d46-48f4-a1c3-277d31f1f08e",
     "showTitle": false,
     "tableResultSettingsMap": {},
     "title": ""
    }
   },
   "outputs": [
    {
     "output_type": "display_data",
     "data": {
      "text/html": [
       "<style scoped>\n",
       "  .table-result-container {\n",
       "    max-height: 300px;\n",
       "    overflow: auto;\n",
       "  }\n",
       "  table, th, td {\n",
       "    border: 1px solid black;\n",
       "    border-collapse: collapse;\n",
       "  }\n",
       "  th, td {\n",
       "    padding: 5px;\n",
       "  }\n",
       "  th {\n",
       "    text-align: left;\n",
       "  }\n",
       "</style><div class='table-result-container'><table class='table-result'><thead style='background-color: white'><tr><th>id</th><th>date</th><th>threat_type</th><th>flee_status</th><th>armed_with</th><th>City</th><th>county</th><th>state</th><th>latitude</th><th>longitude</th><th>location_precision</th><th>name</th><th>age</th><th>gender</th><th>race</th><th>race_source</th><th>was_mental_illness_related</th><th>body_camera</th><th>agency_ids</th><th>year</th></tr></thead><tbody><tr><td>3956</td><td>12/8/2018</td><td>shoot</td><td>car</td><td>gun</td><td>Waynesboro</td><td>null</td><td>VA</td><td>38.06847</td><td>-78.889465</td><td>not_available</td><td>Anthony Makai Hutchinson</td><td>40</td><td>male</td><td>B</td><td>not_available</td><td>FALSE</td><td>FALSE</td><td>3547</td><td>2018</td></tr><tr><td>4153</td><td>4/10/2018</td><td>point</td><td>not</td><td>gun</td><td>Scarbro</td><td>null</td><td>WV</td><td>37.979633</td><td>-81.27061</td><td>not_available</td><td>William Cox</td><td>45</td><td>male</td><td>null</td><td>null</td><td>FALSE</td><td>FALSE</td><td>360</td><td>2018</td></tr><tr><td>5410</td><td>6/2/2019</td><td>attack</td><td>not</td><td>knife</td><td>Joliet</td><td>null</td><td>IL</td><td>41.51732</td><td>-88.08554</td><td>not_available</td><td>Bruce Carter Jr.</td><td>38</td><td>male</td><td>B</td><td>not_available</td><td>FALSE</td><td>FALSE</td><td>244</td><td>2019</td></tr><tr><td>4469</td><td>18/2/2019</td><td>shoot</td><td>not</td><td>gun</td><td>Pelahatchie</td><td>null</td><td>MS</td><td>32.32031</td><td>-89.7889</td><td>not_available</td><td>Pierre Woods</td><td>31</td><td>male</td><td>B</td><td>not_available</td><td>TRUE</td><td>FALSE</td><td>2401</td><td>2019</td></tr><tr><td>4777</td><td>11/6/2019</td><td>attack</td><td>not</td><td>knife</td><td>Poteau</td><td>null</td><td>OK</td><td>35.077915</td><td>-94.628914</td><td>not_available</td><td>Jaquan Derrick Diijon Thompson</td><td>27</td><td>male</td><td>B</td><td>not_available</td><td>FALSE</td><td>FALSE</td><td>2496;2497</td><td>2019</td></tr><tr><td>4895</td><td>28/7/2019</td><td>point</td><td>not</td><td>gun</td><td>Boynton Beach</td><td>null</td><td>FL</td><td>26.548351</td><td>-80.090576</td><td>not_available</td><td>Adalberto Wolmar Rodriguez</td><td>62</td><td>male</td><td>H</td><td>not_available</td><td>FALSE</td><td>FALSE</td><td>2447</td><td>2019</td></tr><tr><td>5038</td><td>16/9/2019</td><td>shoot</td><td>foot</td><td>gun</td><td>Elizabethton</td><td>null</td><td>TN</td><td>36.348473</td><td>-82.211784</td><td>not_available</td><td>Jeffrey Michael Gibble</td><td>33</td><td>male</td><td>W</td><td>not_available</td><td>FALSE</td><td>FALSE</td><td>1118</td><td>2019</td></tr><tr><td>5442</td><td>28/1/2020</td><td>point</td><td>not</td><td>gun</td><td>Tucson</td><td>null</td><td>AZ</td><td>32.17786</td><td>-110.9984</td><td>not_available</td><td>Robert Cocio</td><td>39</td><td>male</td><td>H</td><td>not_available</td><td>FALSE</td><td>FALSE</td><td>964;397;215</td><td>2020</td></tr><tr><td>5569</td><td>28/1/2020</td><td>attack</td><td>not</td><td>vehicle</td><td>Shelby Gap</td><td>null</td><td>KY</td><td>37.232872</td><td>-82.56576</td><td>not_available</td><td>Jonathan Bentley</td><td>37</td><td>male</td><td>W</td><td>not_available</td><td>FALSE</td><td>FALSE</td><td>130</td><td>2020</td></tr><tr><td>5665</td><td>13/3/2020</td><td>move</td><td>not</td><td>knife</td><td>Murfreesboro</td><td>null</td><td>TN</td><td>35.80718</td><td>-86.31118</td><td>not_available</td><td>Christopher Mullins</td><td>null</td><td>male</td><td>W</td><td>not_available</td><td>TRUE</td><td>FALSE</td><td>2404</td><td>2020</td></tr><tr><td>5734</td><td>9/4/2020</td><td>shoot</td><td>foot</td><td>gun</td><td>Colonial Heights</td><td>null</td><td>VA</td><td>null</td><td>null</td><td>null</td><td>Zyon Romeir Wyche</td><td>19</td><td>male</td><td>B</td><td>not_available</td><td>FALSE</td><td>FALSE</td><td>2783</td><td>2020</td></tr><tr><td>6388</td><td>26/10/2020</td><td>shoot</td><td>not</td><td>gun</td><td>Citrus Heights</td><td>null</td><td>CA</td><td>38.718567</td><td>-121.26177</td><td>not_available</td><td>Bruce Allan Shumaker</td><td>64</td><td>male</td><td>null</td><td>null</td><td>FALSE</td><td>FALSE</td><td>600</td><td>2020</td></tr><tr><td>6575</td><td>5/2/2021</td><td>shoot</td><td>not</td><td>gun</td><td>Martinsville</td><td>null</td><td>VA</td><td>36.688427</td><td>-79.85634</td><td>not_available</td><td>null</td><td>null</td><td>male</td><td>B</td><td>not_available</td><td>FALSE</td><td>TRUE</td><td>3022</td><td>2021</td></tr><tr><td>7802</td><td>14/3/2022</td><td>shoot</td><td>null</td><td>gun</td><td>Covington</td><td>null</td><td>VA</td><td>37.793716</td><td>-79.98888</td><td>not_available</td><td>Toney Stuart Poulston Jr.</td><td>42</td><td>male</td><td>W</td><td>photo</td><td>FALSE</td><td>FALSE</td><td>3379</td><td>2022</td></tr><tr><td>9236</td><td>18/5/2023</td><td>move</td><td>not</td><td>unarmed</td><td>Tohono O'odham Nation Reservation</td><td>null</td><td>AZ</td><td>null</td><td>null</td><td>null</td><td>Raymond Mattia</td><td>58</td><td>male</td><td>N</td><td>clip</td><td>FALSE</td><td>TRUE</td><td>1304</td><td>2023</td></tr></tbody></table></div>"
      ]
     },
     "metadata": {
      "application/vnd.databricks.v1+output": {
       "addedWidgets": {},
       "aggData": [],
       "aggError": "",
       "aggOverflow": false,
       "aggSchema": [],
       "aggSeriesLimitReached": false,
       "aggType": "",
       "arguments": {},
       "columnCustomDisplayInfos": {},
       "data": [
        [
         "3956",
         "12/8/2018",
         "shoot",
         "car",
         "gun",
         "Waynesboro",
         null,
         "VA",
         38.06847,
         -78.889465,
         "not_available",
         "Anthony Makai Hutchinson",
         "40",
         "male",
         "B",
         "not_available",
         "FALSE",
         "FALSE",
         "3547",
         2018
        ],
        [
         "4153",
         "4/10/2018",
         "point",
         "not",
         "gun",
         "Scarbro",
         null,
         "WV",
         37.979633,
         -81.27061,
         "not_available",
         "William Cox",
         "45",
         "male",
         null,
         null,
         "FALSE",
         "FALSE",
         "360",
         2018
        ],
        [
         "5410",
         "6/2/2019",
         "attack",
         "not",
         "knife",
         "Joliet",
         null,
         "IL",
         41.51732,
         -88.08554,
         "not_available",
         "Bruce Carter Jr.",
         "38",
         "male",
         "B",
         "not_available",
         "FALSE",
         "FALSE",
         "244",
         2019
        ],
        [
         "4469",
         "18/2/2019",
         "shoot",
         "not",
         "gun",
         "Pelahatchie",
         null,
         "MS",
         32.32031,
         -89.7889,
         "not_available",
         "Pierre Woods",
         "31",
         "male",
         "B",
         "not_available",
         "TRUE",
         "FALSE",
         "2401",
         2019
        ],
        [
         "4777",
         "11/6/2019",
         "attack",
         "not",
         "knife",
         "Poteau",
         null,
         "OK",
         35.077915,
         -94.628914,
         "not_available",
         "Jaquan Derrick Diijon Thompson",
         "27",
         "male",
         "B",
         "not_available",
         "FALSE",
         "FALSE",
         "2496;2497",
         2019
        ],
        [
         "4895",
         "28/7/2019",
         "point",
         "not",
         "gun",
         "Boynton Beach",
         null,
         "FL",
         26.548351,
         -80.090576,
         "not_available",
         "Adalberto Wolmar Rodriguez",
         "62",
         "male",
         "H",
         "not_available",
         "FALSE",
         "FALSE",
         "2447",
         2019
        ],
        [
         "5038",
         "16/9/2019",
         "shoot",
         "foot",
         "gun",
         "Elizabethton",
         null,
         "TN",
         36.348473,
         -82.211784,
         "not_available",
         "Jeffrey Michael Gibble",
         "33",
         "male",
         "W",
         "not_available",
         "FALSE",
         "FALSE",
         "1118",
         2019
        ],
        [
         "5442",
         "28/1/2020",
         "point",
         "not",
         "gun",
         "Tucson",
         null,
         "AZ",
         32.17786,
         -110.9984,
         "not_available",
         "Robert Cocio",
         "39",
         "male",
         "H",
         "not_available",
         "FALSE",
         "FALSE",
         "964;397;215",
         2020
        ],
        [
         "5569",
         "28/1/2020",
         "attack",
         "not",
         "vehicle",
         "Shelby Gap",
         null,
         "KY",
         37.232872,
         -82.56576,
         "not_available",
         "Jonathan Bentley",
         "37",
         "male",
         "W",
         "not_available",
         "FALSE",
         "FALSE",
         "130",
         2020
        ],
        [
         "5665",
         "13/3/2020",
         "move",
         "not",
         "knife",
         "Murfreesboro",
         null,
         "TN",
         35.80718,
         -86.31118,
         "not_available",
         "Christopher Mullins",
         null,
         "male",
         "W",
         "not_available",
         "TRUE",
         "FALSE",
         "2404",
         2020
        ],
        [
         "5734",
         "9/4/2020",
         "shoot",
         "foot",
         "gun",
         "Colonial Heights",
         null,
         "VA",
         null,
         null,
         null,
         "Zyon Romeir Wyche",
         "19",
         "male",
         "B",
         "not_available",
         "FALSE",
         "FALSE",
         "2783",
         2020
        ],
        [
         "6388",
         "26/10/2020",
         "shoot",
         "not",
         "gun",
         "Citrus Heights",
         null,
         "CA",
         38.718567,
         -121.26177,
         "not_available",
         "Bruce Allan Shumaker",
         "64",
         "male",
         null,
         null,
         "FALSE",
         "FALSE",
         "600",
         2020
        ],
        [
         "6575",
         "5/2/2021",
         "shoot",
         "not",
         "gun",
         "Martinsville",
         null,
         "VA",
         36.688427,
         -79.85634,
         "not_available",
         null,
         null,
         "male",
         "B",
         "not_available",
         "FALSE",
         "TRUE",
         "3022",
         2021
        ],
        [
         "7802",
         "14/3/2022",
         "shoot",
         null,
         "gun",
         "Covington",
         null,
         "VA",
         37.793716,
         -79.98888,
         "not_available",
         "Toney Stuart Poulston Jr.",
         "42",
         "male",
         "W",
         "photo",
         "FALSE",
         "FALSE",
         "3379",
         2022
        ],
        [
         "9236",
         "18/5/2023",
         "move",
         "not",
         "unarmed",
         "Tohono O'odham Nation Reservation",
         null,
         "AZ",
         null,
         null,
         null,
         "Raymond Mattia",
         "58",
         "male",
         "N",
         "clip",
         "FALSE",
         "TRUE",
         "1304",
         2023
        ]
       ],
       "datasetInfos": [],
       "dbfsResultPath": null,
       "isJsonSchema": true,
       "metadata": {},
       "overflow": false,
       "plotOptions": {
        "customPlotOptions": {},
        "displayType": "table",
        "pivotAggregation": null,
        "pivotColumns": null,
        "xColumns": null,
        "yColumns": null
       },
       "removedWidgets": [],
       "schema": [
        {
         "metadata": "{}",
         "name": "id",
         "type": "\"string\""
        },
        {
         "metadata": "{}",
         "name": "date",
         "type": "\"string\""
        },
        {
         "metadata": "{}",
         "name": "threat_type",
         "type": "\"string\""
        },
        {
         "metadata": "{}",
         "name": "flee_status",
         "type": "\"string\""
        },
        {
         "metadata": "{}",
         "name": "armed_with",
         "type": "\"string\""
        },
        {
         "metadata": "{}",
         "name": "City",
         "type": "\"string\""
        },
        {
         "metadata": "{}",
         "name": "county",
         "type": "\"string\""
        },
        {
         "metadata": "{}",
         "name": "state",
         "type": "\"string\""
        },
        {
         "metadata": "{}",
         "name": "latitude",
         "type": "\"float\""
        },
        {
         "metadata": "{}",
         "name": "longitude",
         "type": "\"float\""
        },
        {
         "metadata": "{}",
         "name": "location_precision",
         "type": "\"string\""
        },
        {
         "metadata": "{}",
         "name": "name",
         "type": "\"string\""
        },
        {
         "metadata": "{}",
         "name": "age",
         "type": "\"string\""
        },
        {
         "metadata": "{}",
         "name": "gender",
         "type": "\"string\""
        },
        {
         "metadata": "{}",
         "name": "race",
         "type": "\"string\""
        },
        {
         "metadata": "{}",
         "name": "race_source",
         "type": "\"string\""
        },
        {
         "metadata": "{}",
         "name": "was_mental_illness_related",
         "type": "\"string\""
        },
        {
         "metadata": "{}",
         "name": "body_camera",
         "type": "\"string\""
        },
        {
         "metadata": "{}",
         "name": "agency_ids",
         "type": "\"string\""
        },
        {
         "metadata": "{}",
         "name": "year",
         "type": "\"integer\""
        }
       ],
       "type": "table"
      }
     },
     "output_type": "display_data"
    }
   ],
   "source": [
    "from pyspark.sql.functions import when, col, create_map, lit\n",
    "\n",
    "city_misspelled_dict = {\"Boyton Beach\": \"Boynton Beach\", \"Citrus Heighs\": \"Citrus Heights\", \"Elizabethon\": \"Elizabethton\", \"Joilet\": \"Joliet\", \"Mufreesboro\": \"Murfreesboro\", \"Pelehatchie\": \"Pelahatchie\", \"Porteau\": \"Poteau\", \"Scarbo\": \"Scarbro\", \"Tuscson\": \"Tucson\"}\n",
    "\n",
    "# Create a new column with the replacements\n",
    "for misspelled_city, correct_city in city_misspelled_dict.items():\n",
    "    missing_county_by_city_state_df = missing_county_by_city_state_df.withColumn(\"City\", when(col(\"City\") == misspelled_city, correct_city).otherwise(col(\"City\")))\n",
    "\n",
    "display(missing_county_by_city_state_df)"
   ]
  },
  {
   "cell_type": "markdown",
   "metadata": {
    "application/vnd.databricks.v1+cell": {
     "cellMetadata": {},
     "inputWidgets": {},
     "nuid": "6a3dd013-738e-4af0-90f3-89954de38c85",
     "showTitle": false,
     "tableResultSettingsMap": {},
     "title": ""
    }
   },
   "source": [
    "### Correct Spelled Counties"
   ]
  },
  {
   "cell_type": "code",
   "execution_count": 0,
   "metadata": {
    "application/vnd.databricks.v1+cell": {
     "cellMetadata": {
      "byteLimit": 2048000,
      "rowLimit": 10000
     },
     "inputWidgets": {},
     "nuid": "107bb388-3af2-4f62-b943-af9451feff14",
     "showTitle": false,
     "tableResultSettingsMap": {},
     "title": ""
    }
   },
   "outputs": [
    {
     "output_type": "display_data",
     "data": {
      "text/html": [
       "<style scoped>\n",
       "  .table-result-container {\n",
       "    max-height: 300px;\n",
       "    overflow: auto;\n",
       "  }\n",
       "  table, th, td {\n",
       "    border: 1px solid black;\n",
       "    border-collapse: collapse;\n",
       "  }\n",
       "  th, td {\n",
       "    padding: 5px;\n",
       "  }\n",
       "  th {\n",
       "    text-align: left;\n",
       "  }\n",
       "</style><div class='table-result-container'><table class='table-result'><thead style='background-color: white'><tr><th>city</th><th>state</th><th>us_county</th></tr></thead><tbody><tr><td>Waynesboro</td><td>VA</td><td>Waynesboro</td></tr><tr><td>Scarbro</td><td>WV</td><td>Fayette</td></tr><tr><td>Joliet</td><td>IL</td><td>Will</td></tr><tr><td>Pelahatchie</td><td>MS</td><td>Rankin</td></tr><tr><td>Poteau</td><td>OK</td><td>Le Flore</td></tr><tr><td>Boynton Beach</td><td>FL</td><td>Palm Beach</td></tr><tr><td>Elizabethton</td><td>TN</td><td>Carter</td></tr><tr><td>Tucson</td><td>AZ</td><td>Pima</td></tr><tr><td>Shelby Gap</td><td>KY</td><td>Pike</td></tr><tr><td>Murfreesboro</td><td>TN</td><td>Rutherford</td></tr><tr><td>Colonial Heights</td><td>VA</td><td>Colonial Heights</td></tr><tr><td>Citrus Heights</td><td>CA</td><td>Sacramento</td></tr><tr><td>Martinsville</td><td>VA</td><td>Martinsville</td></tr><tr><td>Covington</td><td>VA</td><td>Covington</td></tr><tr><td>Tohono O'odham Nation Reservation</td><td>AZ</td><td>Pima</td></tr></tbody></table></div>"
      ]
     },
     "metadata": {
      "application/vnd.databricks.v1+output": {
       "addedWidgets": {},
       "aggData": [],
       "aggError": "",
       "aggOverflow": false,
       "aggSchema": [],
       "aggSeriesLimitReached": false,
       "aggType": "",
       "arguments": {},
       "columnCustomDisplayInfos": {},
       "data": [
        [
         "Waynesboro",
         "VA",
         "Waynesboro"
        ],
        [
         "Scarbro",
         "WV",
         "Fayette"
        ],
        [
         "Joliet",
         "IL",
         "Will"
        ],
        [
         "Pelahatchie",
         "MS",
         "Rankin"
        ],
        [
         "Poteau",
         "OK",
         "Le Flore"
        ],
        [
         "Boynton Beach",
         "FL",
         "Palm Beach"
        ],
        [
         "Elizabethton",
         "TN",
         "Carter"
        ],
        [
         "Tucson",
         "AZ",
         "Pima"
        ],
        [
         "Shelby Gap",
         "KY",
         "Pike"
        ],
        [
         "Murfreesboro",
         "TN",
         "Rutherford"
        ],
        [
         "Colonial Heights",
         "VA",
         "Colonial Heights"
        ],
        [
         "Citrus Heights",
         "CA",
         "Sacramento"
        ],
        [
         "Martinsville",
         "VA",
         "Martinsville"
        ],
        [
         "Covington",
         "VA",
         "Covington"
        ],
        [
         "Tohono O'odham Nation Reservation",
         "AZ",
         "Pima"
        ]
       ],
       "datasetInfos": [],
       "dbfsResultPath": null,
       "isJsonSchema": true,
       "metadata": {},
       "overflow": false,
       "plotOptions": {
        "customPlotOptions": {},
        "displayType": "table",
        "pivotAggregation": null,
        "pivotColumns": null,
        "xColumns": null,
        "yColumns": null
       },
       "removedWidgets": [],
       "schema": [
        {
         "metadata": "{}",
         "name": "city",
         "type": "\"string\""
        },
        {
         "metadata": "{}",
         "name": "state",
         "type": "\"string\""
        },
        {
         "metadata": "{}",
         "name": "us_county",
         "type": "\"string\""
        }
       ],
       "type": "table"
      }
     },
     "output_type": "display_data"
    }
   ],
   "source": [
    "# Data to create the DataFrame\n",
    "miss_spelled_data = [\n",
    "    (\"Waynesboro\", \"VA\", \"Waynesboro\"),\n",
    "    (\"Scarbro\", \"WV\", \"Fayette\"),\n",
    "    (\"Joliet\", \"IL\", \"Will\"),\n",
    "    (\"Pelahatchie\", \"MS\", \"Rankin\"),\n",
    "    (\"Poteau\", \"OK\", \"Le Flore\"),\n",
    "    (\"Boynton Beach\", \"FL\", \"Palm Beach\"),\n",
    "    (\"Elizabethton\", \"TN\", \"Carter\"),\n",
    "    (\"Tucson\", \"AZ\", \"Pima\"),\n",
    "    (\"Shelby Gap\", \"KY\", \"Pike\"),\n",
    "    (\"Murfreesboro\", \"TN\", \"Rutherford\"),\n",
    "    (\"Colonial Heights\", \"VA\", \"Colonial Heights\"),\n",
    "    (\"Citrus Heights\", \"CA\", \"Sacramento\"),\n",
    "    (\"Martinsville\", \"VA\", \"Martinsville\"),\n",
    "    (\"Covington\", \"VA\", \"Covington\"),\n",
    "    (\"Tohono O'odham Nation Reservation\", \"AZ\", \"Pima\")\n",
    "]\n",
    "\n",
    "# Column names\n",
    "columns = [\"city\", \"state\", \"us_county\"]\n",
    "missed_spelled_df = spark.createDataFrame(miss_spelled_data, columns)\n",
    "display(missed_spelled_df)\n"
   ]
  },
  {
   "cell_type": "code",
   "execution_count": 0,
   "metadata": {
    "application/vnd.databricks.v1+cell": {
     "cellMetadata": {
      "byteLimit": 2048000,
      "rowLimit": 10000
     },
     "inputWidgets": {},
     "nuid": "a63bc186-155c-46c9-bed8-8fac2a1d283c",
     "showTitle": false,
     "tableResultSettingsMap": {},
     "title": ""
    }
   },
   "outputs": [
    {
     "output_type": "display_data",
     "data": {
      "text/html": [
       "<style scoped>\n",
       "  .table-result-container {\n",
       "    max-height: 300px;\n",
       "    overflow: auto;\n",
       "  }\n",
       "  table, th, td {\n",
       "    border: 1px solid black;\n",
       "    border-collapse: collapse;\n",
       "  }\n",
       "  th, td {\n",
       "    padding: 5px;\n",
       "  }\n",
       "  th {\n",
       "    text-align: left;\n",
       "  }\n",
       "</style><div class='table-result-container'><table class='table-result'><thead style='background-color: white'><tr><th>City</th><th>state</th><th>id</th><th>date</th><th>threat_type</th><th>flee_status</th><th>armed_with</th><th>latitude</th><th>longitude</th><th>location_precision</th><th>name</th><th>age</th><th>gender</th><th>race</th><th>race_source</th><th>was_mental_illness_related</th><th>body_camera</th><th>agency_ids</th><th>year</th><th>county</th></tr></thead><tbody><tr><td>Waynesboro</td><td>VA</td><td>3956</td><td>12/8/2018</td><td>shoot</td><td>car</td><td>gun</td><td>38.06847</td><td>-78.889465</td><td>not_available</td><td>Anthony Makai Hutchinson</td><td>40</td><td>male</td><td>B</td><td>not_available</td><td>FALSE</td><td>FALSE</td><td>3547</td><td>2018</td><td>Waynesboro</td></tr><tr><td>Scarbro</td><td>WV</td><td>4153</td><td>4/10/2018</td><td>point</td><td>not</td><td>gun</td><td>37.979633</td><td>-81.27061</td><td>not_available</td><td>William Cox</td><td>45</td><td>male</td><td>null</td><td>null</td><td>FALSE</td><td>FALSE</td><td>360</td><td>2018</td><td>Fayette</td></tr><tr><td>Joliet</td><td>IL</td><td>5410</td><td>6/2/2019</td><td>attack</td><td>not</td><td>knife</td><td>41.51732</td><td>-88.08554</td><td>not_available</td><td>Bruce Carter Jr.</td><td>38</td><td>male</td><td>B</td><td>not_available</td><td>FALSE</td><td>FALSE</td><td>244</td><td>2019</td><td>Will</td></tr><tr><td>Pelahatchie</td><td>MS</td><td>4469</td><td>18/2/2019</td><td>shoot</td><td>not</td><td>gun</td><td>32.32031</td><td>-89.7889</td><td>not_available</td><td>Pierre Woods</td><td>31</td><td>male</td><td>B</td><td>not_available</td><td>TRUE</td><td>FALSE</td><td>2401</td><td>2019</td><td>Rankin</td></tr><tr><td>Poteau</td><td>OK</td><td>4777</td><td>11/6/2019</td><td>attack</td><td>not</td><td>knife</td><td>35.077915</td><td>-94.628914</td><td>not_available</td><td>Jaquan Derrick Diijon Thompson</td><td>27</td><td>male</td><td>B</td><td>not_available</td><td>FALSE</td><td>FALSE</td><td>2496;2497</td><td>2019</td><td>Le Flore</td></tr><tr><td>Boynton Beach</td><td>FL</td><td>4895</td><td>28/7/2019</td><td>point</td><td>not</td><td>gun</td><td>26.548351</td><td>-80.090576</td><td>not_available</td><td>Adalberto Wolmar Rodriguez</td><td>62</td><td>male</td><td>H</td><td>not_available</td><td>FALSE</td><td>FALSE</td><td>2447</td><td>2019</td><td>Palm Beach</td></tr><tr><td>Elizabethton</td><td>TN</td><td>5038</td><td>16/9/2019</td><td>shoot</td><td>foot</td><td>gun</td><td>36.348473</td><td>-82.211784</td><td>not_available</td><td>Jeffrey Michael Gibble</td><td>33</td><td>male</td><td>W</td><td>not_available</td><td>FALSE</td><td>FALSE</td><td>1118</td><td>2019</td><td>Carter</td></tr><tr><td>Tucson</td><td>AZ</td><td>5442</td><td>28/1/2020</td><td>point</td><td>not</td><td>gun</td><td>32.17786</td><td>-110.9984</td><td>not_available</td><td>Robert Cocio</td><td>39</td><td>male</td><td>H</td><td>not_available</td><td>FALSE</td><td>FALSE</td><td>964;397;215</td><td>2020</td><td>Pima</td></tr><tr><td>Shelby Gap</td><td>KY</td><td>5569</td><td>28/1/2020</td><td>attack</td><td>not</td><td>vehicle</td><td>37.232872</td><td>-82.56576</td><td>not_available</td><td>Jonathan Bentley</td><td>37</td><td>male</td><td>W</td><td>not_available</td><td>FALSE</td><td>FALSE</td><td>130</td><td>2020</td><td>Pike</td></tr><tr><td>Murfreesboro</td><td>TN</td><td>5665</td><td>13/3/2020</td><td>move</td><td>not</td><td>knife</td><td>35.80718</td><td>-86.31118</td><td>not_available</td><td>Christopher Mullins</td><td>null</td><td>male</td><td>W</td><td>not_available</td><td>TRUE</td><td>FALSE</td><td>2404</td><td>2020</td><td>Rutherford</td></tr><tr><td>Colonial Heights</td><td>VA</td><td>5734</td><td>9/4/2020</td><td>shoot</td><td>foot</td><td>gun</td><td>null</td><td>null</td><td>null</td><td>Zyon Romeir Wyche</td><td>19</td><td>male</td><td>B</td><td>not_available</td><td>FALSE</td><td>FALSE</td><td>2783</td><td>2020</td><td>Colonial Heights</td></tr><tr><td>Citrus Heights</td><td>CA</td><td>6388</td><td>26/10/2020</td><td>shoot</td><td>not</td><td>gun</td><td>38.718567</td><td>-121.26177</td><td>not_available</td><td>Bruce Allan Shumaker</td><td>64</td><td>male</td><td>null</td><td>null</td><td>FALSE</td><td>FALSE</td><td>600</td><td>2020</td><td>Sacramento</td></tr><tr><td>Martinsville</td><td>VA</td><td>6575</td><td>5/2/2021</td><td>shoot</td><td>not</td><td>gun</td><td>36.688427</td><td>-79.85634</td><td>not_available</td><td>null</td><td>null</td><td>male</td><td>B</td><td>not_available</td><td>FALSE</td><td>TRUE</td><td>3022</td><td>2021</td><td>Martinsville</td></tr><tr><td>Covington</td><td>VA</td><td>7802</td><td>14/3/2022</td><td>shoot</td><td>null</td><td>gun</td><td>37.793716</td><td>-79.98888</td><td>not_available</td><td>Toney Stuart Poulston Jr.</td><td>42</td><td>male</td><td>W</td><td>photo</td><td>FALSE</td><td>FALSE</td><td>3379</td><td>2022</td><td>Covington</td></tr><tr><td>Tohono O'odham Nation Reservation</td><td>AZ</td><td>9236</td><td>18/5/2023</td><td>move</td><td>not</td><td>unarmed</td><td>null</td><td>null</td><td>null</td><td>Raymond Mattia</td><td>58</td><td>male</td><td>N</td><td>clip</td><td>FALSE</td><td>TRUE</td><td>1304</td><td>2023</td><td>Pima</td></tr></tbody></table></div>"
      ]
     },
     "metadata": {
      "application/vnd.databricks.v1+output": {
       "addedWidgets": {},
       "aggData": [],
       "aggError": "",
       "aggOverflow": false,
       "aggSchema": [],
       "aggSeriesLimitReached": false,
       "aggType": "",
       "arguments": {},
       "columnCustomDisplayInfos": {},
       "data": [
        [
         "Waynesboro",
         "VA",
         "3956",
         "12/8/2018",
         "shoot",
         "car",
         "gun",
         38.06847,
         -78.889465,
         "not_available",
         "Anthony Makai Hutchinson",
         "40",
         "male",
         "B",
         "not_available",
         "FALSE",
         "FALSE",
         "3547",
         2018,
         "Waynesboro"
        ],
        [
         "Scarbro",
         "WV",
         "4153",
         "4/10/2018",
         "point",
         "not",
         "gun",
         37.979633,
         -81.27061,
         "not_available",
         "William Cox",
         "45",
         "male",
         null,
         null,
         "FALSE",
         "FALSE",
         "360",
         2018,
         "Fayette"
        ],
        [
         "Joliet",
         "IL",
         "5410",
         "6/2/2019",
         "attack",
         "not",
         "knife",
         41.51732,
         -88.08554,
         "not_available",
         "Bruce Carter Jr.",
         "38",
         "male",
         "B",
         "not_available",
         "FALSE",
         "FALSE",
         "244",
         2019,
         "Will"
        ],
        [
         "Pelahatchie",
         "MS",
         "4469",
         "18/2/2019",
         "shoot",
         "not",
         "gun",
         32.32031,
         -89.7889,
         "not_available",
         "Pierre Woods",
         "31",
         "male",
         "B",
         "not_available",
         "TRUE",
         "FALSE",
         "2401",
         2019,
         "Rankin"
        ],
        [
         "Poteau",
         "OK",
         "4777",
         "11/6/2019",
         "attack",
         "not",
         "knife",
         35.077915,
         -94.628914,
         "not_available",
         "Jaquan Derrick Diijon Thompson",
         "27",
         "male",
         "B",
         "not_available",
         "FALSE",
         "FALSE",
         "2496;2497",
         2019,
         "Le Flore"
        ],
        [
         "Boynton Beach",
         "FL",
         "4895",
         "28/7/2019",
         "point",
         "not",
         "gun",
         26.548351,
         -80.090576,
         "not_available",
         "Adalberto Wolmar Rodriguez",
         "62",
         "male",
         "H",
         "not_available",
         "FALSE",
         "FALSE",
         "2447",
         2019,
         "Palm Beach"
        ],
        [
         "Elizabethton",
         "TN",
         "5038",
         "16/9/2019",
         "shoot",
         "foot",
         "gun",
         36.348473,
         -82.211784,
         "not_available",
         "Jeffrey Michael Gibble",
         "33",
         "male",
         "W",
         "not_available",
         "FALSE",
         "FALSE",
         "1118",
         2019,
         "Carter"
        ],
        [
         "Tucson",
         "AZ",
         "5442",
         "28/1/2020",
         "point",
         "not",
         "gun",
         32.17786,
         -110.9984,
         "not_available",
         "Robert Cocio",
         "39",
         "male",
         "H",
         "not_available",
         "FALSE",
         "FALSE",
         "964;397;215",
         2020,
         "Pima"
        ],
        [
         "Shelby Gap",
         "KY",
         "5569",
         "28/1/2020",
         "attack",
         "not",
         "vehicle",
         37.232872,
         -82.56576,
         "not_available",
         "Jonathan Bentley",
         "37",
         "male",
         "W",
         "not_available",
         "FALSE",
         "FALSE",
         "130",
         2020,
         "Pike"
        ],
        [
         "Murfreesboro",
         "TN",
         "5665",
         "13/3/2020",
         "move",
         "not",
         "knife",
         35.80718,
         -86.31118,
         "not_available",
         "Christopher Mullins",
         null,
         "male",
         "W",
         "not_available",
         "TRUE",
         "FALSE",
         "2404",
         2020,
         "Rutherford"
        ],
        [
         "Colonial Heights",
         "VA",
         "5734",
         "9/4/2020",
         "shoot",
         "foot",
         "gun",
         null,
         null,
         null,
         "Zyon Romeir Wyche",
         "19",
         "male",
         "B",
         "not_available",
         "FALSE",
         "FALSE",
         "2783",
         2020,
         "Colonial Heights"
        ],
        [
         "Citrus Heights",
         "CA",
         "6388",
         "26/10/2020",
         "shoot",
         "not",
         "gun",
         38.718567,
         -121.26177,
         "not_available",
         "Bruce Allan Shumaker",
         "64",
         "male",
         null,
         null,
         "FALSE",
         "FALSE",
         "600",
         2020,
         "Sacramento"
        ],
        [
         "Martinsville",
         "VA",
         "6575",
         "5/2/2021",
         "shoot",
         "not",
         "gun",
         36.688427,
         -79.85634,
         "not_available",
         null,
         null,
         "male",
         "B",
         "not_available",
         "FALSE",
         "TRUE",
         "3022",
         2021,
         "Martinsville"
        ],
        [
         "Covington",
         "VA",
         "7802",
         "14/3/2022",
         "shoot",
         null,
         "gun",
         37.793716,
         -79.98888,
         "not_available",
         "Toney Stuart Poulston Jr.",
         "42",
         "male",
         "W",
         "photo",
         "FALSE",
         "FALSE",
         "3379",
         2022,
         "Covington"
        ],
        [
         "Tohono O'odham Nation Reservation",
         "AZ",
         "9236",
         "18/5/2023",
         "move",
         "not",
         "unarmed",
         null,
         null,
         null,
         "Raymond Mattia",
         "58",
         "male",
         "N",
         "clip",
         "FALSE",
         "TRUE",
         "1304",
         2023,
         "Pima"
        ]
       ],
       "datasetInfos": [],
       "dbfsResultPath": null,
       "isJsonSchema": true,
       "metadata": {},
       "overflow": false,
       "plotOptions": {
        "customPlotOptions": {},
        "displayType": "table",
        "pivotAggregation": null,
        "pivotColumns": null,
        "xColumns": null,
        "yColumns": null
       },
       "removedWidgets": [],
       "schema": [
        {
         "metadata": "{}",
         "name": "City",
         "type": "\"string\""
        },
        {
         "metadata": "{}",
         "name": "state",
         "type": "\"string\""
        },
        {
         "metadata": "{}",
         "name": "id",
         "type": "\"string\""
        },
        {
         "metadata": "{}",
         "name": "date",
         "type": "\"string\""
        },
        {
         "metadata": "{}",
         "name": "threat_type",
         "type": "\"string\""
        },
        {
         "metadata": "{}",
         "name": "flee_status",
         "type": "\"string\""
        },
        {
         "metadata": "{}",
         "name": "armed_with",
         "type": "\"string\""
        },
        {
         "metadata": "{}",
         "name": "latitude",
         "type": "\"float\""
        },
        {
         "metadata": "{}",
         "name": "longitude",
         "type": "\"float\""
        },
        {
         "metadata": "{}",
         "name": "location_precision",
         "type": "\"string\""
        },
        {
         "metadata": "{}",
         "name": "name",
         "type": "\"string\""
        },
        {
         "metadata": "{}",
         "name": "age",
         "type": "\"string\""
        },
        {
         "metadata": "{}",
         "name": "gender",
         "type": "\"string\""
        },
        {
         "metadata": "{}",
         "name": "race",
         "type": "\"string\""
        },
        {
         "metadata": "{}",
         "name": "race_source",
         "type": "\"string\""
        },
        {
         "metadata": "{}",
         "name": "was_mental_illness_related",
         "type": "\"string\""
        },
        {
         "metadata": "{}",
         "name": "body_camera",
         "type": "\"string\""
        },
        {
         "metadata": "{}",
         "name": "agency_ids",
         "type": "\"string\""
        },
        {
         "metadata": "{}",
         "name": "year",
         "type": "\"integer\""
        },
        {
         "metadata": "{}",
         "name": "county",
         "type": "\"string\""
        }
       ],
       "type": "table"
      }
     },
     "output_type": "display_data"
    }
   ],
   "source": [
    "filled_missing_county_by_city_state_df = missing_county_by_city_state_df.join(missed_spelled_df, on=[\"city\", \"state\"], how=\"inner\")\n",
    "filled_missing_county_by_city_state_df = filled_missing_county_by_city_state_df.drop(\"county\")\n",
    "filled_missing_county_by_city_state_df = filled_missing_county_by_city_state_df.withColumnRenamed(\"us_county\", \"county\")\n",
    "display(filled_missing_county_by_city_state_df)\n"
   ]
  },
  {
   "cell_type": "code",
   "execution_count": 0,
   "metadata": {
    "application/vnd.databricks.v1+cell": {
     "cellMetadata": {
      "byteLimit": 2048000,
      "rowLimit": 10000
     },
     "inputWidgets": {},
     "nuid": "baee161b-ce1c-44e9-b069-ba024d6adc19",
     "showTitle": false,
     "tableResultSettingsMap": {},
     "title": ""
    }
   },
   "outputs": [],
   "source": [
    "filled_missing_county_by_city_state_df.write.format(\"delta\").mode(\"overwrite\").option(\"mergeSchema\", \"true\").saveAsTable(\"default.all_filled_misspelled_city_counties_df_default_data\")"
   ]
  },
  {
   "cell_type": "code",
   "execution_count": 0,
   "metadata": {
    "application/vnd.databricks.v1+cell": {
     "cellMetadata": {},
     "inputWidgets": {},
     "nuid": "cd3b9346-d877-4ca3-b01d-4f3277c8ce50",
     "showTitle": false,
     "tableResultSettingsMap": {},
     "title": ""
    }
   },
   "outputs": [],
   "source": []
  }
 ],
 "metadata": {
  "application/vnd.databricks.v1+notebook": {
   "computePreferences": null,
   "dashboards": [],
   "environmentMetadata": {
    "base_environment": "",
    "environment_version": "2"
   },
   "language": "python",
   "notebookMetadata": {
    "pythonIndentUnit": 4
   },
   "notebookName": "GeopPy Impute Counties - Corrected Cities Counties",
   "widgets": {}
  },
  "language_info": {
   "name": "python"
  }
 },
 "nbformat": 4,
 "nbformat_minor": 0
}